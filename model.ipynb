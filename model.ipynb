{
  "nbformat": 4,
  "nbformat_minor": 0,
  "metadata": {
    "colab": {
      "provenance": []
    },
    "kernelspec": {
      "name": "python3",
      "display_name": "Python 3"
    },
    "language_info": {
      "name": "python"
    }
  },
  "cells": [
    {
      "cell_type": "code",
      "source": [
        "import numpy as np\n",
        "import pandas as pd\n",
        "import matplotlib.pyplot as plt\n",
        "import seaborn as sns\n",
        "sns.set_palette(\"Paired\")"
      ],
      "metadata": {
        "id": "aEq-y_1XO9-Z"
      },
      "execution_count": 1,
      "outputs": []
    },
    {
      "cell_type": "code",
      "source": [
        "df = pd.read_csv('/content/KODEX200.csv').loc[45:]"
      ],
      "metadata": {
        "id": "ek0UPu88UuUM"
      },
      "execution_count": 2,
      "outputs": []
    },
    {
      "cell_type": "code",
      "source": [
        "print(len(df))"
      ],
      "metadata": {
        "colab": {
          "base_uri": "https://localhost:8080/"
        },
        "id": "UB6EokcGcTj4",
        "outputId": "06f54bd3-7bd4-46fc-929d-652f04802c16"
      },
      "execution_count": 3,
      "outputs": [
        {
          "output_type": "stream",
          "name": "stdout",
          "text": [
            "96921\n"
          ]
        }
      ]
    },
    {
      "cell_type": "code",
      "source": [
        "print(df.isnull().sum()) # 결측치 확인"
      ],
      "metadata": {
        "colab": {
          "base_uri": "https://localhost:8080/"
        },
        "id": "27ui01UlVdqR",
        "outputId": "fe172b24-9ce7-410d-877a-27f8d8e7a70f"
      },
      "execution_count": 4,
      "outputs": [
        {
          "output_type": "stream",
          "name": "stdout",
          "text": [
            "Unnamed: 0      0\n",
            "date            0\n",
            "open            0\n",
            "high            0\n",
            "low             0\n",
            "close           0\n",
            "volume          0\n",
            "trade_volume    0\n",
            "ma              0\n",
            "macd            0\n",
            "macdsignal      0\n",
            "macdhist        0\n",
            "rsi             0\n",
            "ad              0\n",
            "ma_w            0\n",
            "macd_w          0\n",
            "macdsignal_w    0\n",
            "macdhist_w      0\n",
            "rsi_w           0\n",
            "ad_w            0\n",
            "label           0\n",
            "dtype: int64\n"
          ]
        }
      ]
    },
    {
      "cell_type": "code",
      "source": [
        "print(df.columns)"
      ],
      "metadata": {
        "colab": {
          "base_uri": "https://localhost:8080/"
        },
        "id": "3wHy2cbYXKbG",
        "outputId": "98ee1efb-e068-4bf8-e9eb-7a671b13b3ee"
      },
      "execution_count": 5,
      "outputs": [
        {
          "output_type": "stream",
          "name": "stdout",
          "text": [
            "Index(['Unnamed: 0', 'date', 'open', 'high', 'low', 'close', 'volume',\n",
            "       'trade_volume', 'ma', 'macd', 'macdsignal', 'macdhist', 'rsi', 'ad',\n",
            "       'ma_w', 'macd_w', 'macdsignal_w', 'macdhist_w', 'rsi_w', 'ad_w',\n",
            "       'label'],\n",
            "      dtype='object')\n"
          ]
        }
      ]
    },
    {
      "cell_type": "code",
      "source": [
        "X = df[['ma_w', 'macd_w', 'macdsignal_w', 'macdhist_w', 'rsi_w', 'ad_w']]\n",
        "y = df ['label']"
      ],
      "metadata": {
        "id": "JpU8ra8_WDCN"
      },
      "execution_count": 6,
      "outputs": []
    },
    {
      "cell_type": "code",
      "source": [
        "print(y.value_counts())\n",
        "plt.figure(figsize=(5, 5))\n",
        "axl = sns.countplot(y)\n",
        "axl.set_title(\"target\")"
      ],
      "metadata": {
        "colab": {
          "base_uri": "https://localhost:8080/",
          "height": 499
        },
        "id": "P_KzNjj0VeoS",
        "outputId": "1ea9c5c2-921e-4d6a-a3ad-69896b1725ab"
      },
      "execution_count": 7,
      "outputs": [
        {
          "output_type": "stream",
          "name": "stdout",
          "text": [
            "H    92569\n",
            "B     2176\n",
            "S     2176\n",
            "Name: label, dtype: int64\n"
          ]
        },
        {
          "output_type": "stream",
          "name": "stderr",
          "text": [
            "/usr/local/lib/python3.8/dist-packages/seaborn/_decorators.py:36: FutureWarning: Pass the following variable as a keyword arg: x. From version 0.12, the only valid positional argument will be `data`, and passing other arguments without an explicit keyword will result in an error or misinterpretation.\n",
            "  warnings.warn(\n"
          ]
        },
        {
          "output_type": "execute_result",
          "data": {
            "text/plain": [
              "Text(0.5, 1.0, 'target')"
            ]
          },
          "metadata": {},
          "execution_count": 7
        },
        {
          "output_type": "display_data",
          "data": {
            "text/plain": [
              "<Figure size 360x360 with 1 Axes>"
            ],
            "image/png": "[encoded data removed]"
          },
          "metadata": {
            "needs_background": "light"
          }
        }
      ]
    },
    {
      "cell_type": "code",
      "source": [
        "print('Holding:', round(y.value_counts()['H']/len(y),4))\n",
        "print('Buy:', round(y.value_counts()['B']/len(y),4))\n",
        "print('Sell:', round(y.value_counts()['S']/len(y),4))"
      ],
      "metadata": {
        "colab": {
          "base_uri": "https://localhost:8080/"
        },
        "id": "quQYPGerZuki",
        "outputId": "dc2701c7-adae-4928-f449-4e5b281d923a"
      },
      "execution_count": 8,
      "outputs": [
        {
          "output_type": "stream",
          "name": "stdout",
          "text": [
            "Holding: 0.9551\n",
            "Buy: 0.0225\n",
            "Sell: 0.0225\n"
          ]
        }
      ]
    },
    {
      "cell_type": "code",
      "source": [
        "pip install tensorflow-addons"
      ],
      "metadata": {
        "colab": {
          "base_uri": "https://localhost:8080/"
        },
        "id": "YN5HVA0YK5J4",
        "outputId": "8bfd1fb7-cbaa-46c6-9847-8bf79b1cb58b"
      },
      "execution_count": 9,
      "outputs": [
        {
          "output_type": "stream",
          "name": "stdout",
          "text": [
            "Looking in indexes: https://pypi.org/simple, https://us-python.pkg.dev/colab-wheels/public/simple/\n",
            "Collecting tensorflow-addons\n",
            "  Downloading tensorflow_addons-0.19.0-cp38-cp38-manylinux_2_17_x86_64.manylinux2014_x86_64.whl (1.1 MB)\n",
            "\u001b[K     |████████████████████████████████| 1.1 MB 6.8 MB/s \n",
            "\u001b[?25hRequirement already satisfied: packaging in /usr/local/lib/python3.8/dist-packages (from tensorflow-addons) (21.3)\n",
            "Requirement already satisfied: typeguard>=2.7 in /usr/local/lib/python3.8/dist-packages (from tensorflow-addons) (2.7.1)\n",
            "Requirement already satisfied: pyparsing!=3.0.5,>=2.0.2 in /usr/local/lib/python3.8/dist-packages (from packaging->tensorflow-addons) (3.0.9)\n",
            "Installing collected packages: tensorflow-addons\n",
            "Successfully installed tensorflow-addons-0.19.0\n"
          ]
        }
      ]
    },
    {
      "cell_type": "code",
      "source": [
        "from keras import models\n",
        "from keras import layers\n",
        "from keras import optimizers\n",
        "from keras.callbacks import Callback,ModelCheckpoint,ReduceLROnPlateau\n",
        "from keras.models import Sequential\n",
        "from keras.layers import Dense, Dropout\n",
        "import keras.backend as K\n",
        "from sklearn.model_selection import train_test_split\n",
        "from sklearn.preprocessing import OneHotEncoder\n",
        "import tensorflow as tf\n",
        "import tensorflow_addons as tfa"
      ],
      "metadata": {
        "id": "j490GpgSdQuw"
      },
      "execution_count": 10,
      "outputs": []
    },
    {
      "cell_type": "code",
      "source": [
        "# test 기간 10월 1일 ~ 12월 9일\n",
        "onehot_encoder = OneHotEncoder()\n",
        "y_onehot = onehot_encoder.fit_transform(y.values.reshape(-1, 1)).toarray()\n",
        "X_test = X[78586:]\n",
        "y_test = y_onehot[78586:]\n",
        "X_data = X[:78586]\n",
        "y_data = y_onehot[:78586]\n",
        "X_train, X_val, y_train, y_val = train_test_split(X_data, y_data, test_size=0.2, shuffle=True,\n",
        "                                                      stratify=y_data, random_state=12)"
      ],
      "metadata": {
        "id": "ncWXbCklZ3jQ"
      },
      "execution_count": 11,
      "outputs": []
    },
    {
      "cell_type": "code",
      "source": [
        "X_train"
      ],
      "metadata": {
        "colab": {
          "base_uri": "https://localhost:8080/",
          "height": 424
        },
        "id": "xGTe5ALsWdk5",
        "outputId": "5a326af6-ba7c-4103-b05b-ba647f2bff34"
      },
      "execution_count": 13,
      "outputs": [
        {
          "output_type": "execute_result",
          "data": {
            "text/plain": [
              "            ma_w     macd_w  macdsignal_w  macdhist_w      rsi_w          ad_w\n",
              "24597  12.200000   6.698147      6.332111    0.366036   1.320197   4081.215789\n",
              "22630   2.293333 -10.087122     -3.397035   -6.690088 -11.309699  -2331.369761\n",
              "14738 -13.830000  -2.690497     -2.569892   -0.120605   3.882245  -8472.948522\n",
              "50498 -33.816667  -9.113199     -6.859064   -2.254136  -2.187252  49286.320000\n",
              "21166   2.953333  -8.038478     -2.893477   -5.145001  -7.889032 -14234.133333\n",
              "...          ...        ...           ...         ...        ...           ...\n",
              "69815  -9.383333   2.328874      1.505066    0.823808   3.297338   3015.000000\n",
              "46214  -3.566667   4.536408      3.234773    1.301635  -3.286072  -8043.066667\n",
              "51354  12.936667  -1.640134      7.595263   -9.235396 -16.883311 -12450.397143\n",
              "70608   2.800000  -2.081730     -2.582127    0.500397   3.076279   3603.833333\n",
              "15024  -4.760000  12.823529      8.026058    4.797471  17.094208  20478.944444\n",
              "\n",
              "[62868 rows x 6 columns]"
            ],
            "text/html": [
              "\n",
              "  <div id=\"df-ae1474d8-525d-4e9f-9b04-8d2b68bb8d2a\">\n",
              "    <div class=\"colab-df-container\">\n",
              "      <div>\n",
              "<style scoped>\n",
              "    .dataframe tbody tr th:only-of-type {\n",
              "        vertical-align: middle;\n",
              "    }\n",
              "\n",
              "    .dataframe tbody tr th {\n",
              "        vertical-align: top;\n",
              "    }\n",
              "\n",
              "    .dataframe thead th {\n",
              "        text-align: right;\n",
              "    }\n",
              "</style>\n",
              "<table border=\"1\" class=\"dataframe\">\n",
              "  <thead>\n",
              "    <tr style=\"text-align: right;\">\n",
              "      <th></th>\n",
              "      <th>ma_w</th>\n",
              "      <th>macd_w</th>\n",
              "      <th>macdsignal_w</th>\n",
              "      <th>macdhist_w</th>\n",
              "      <th>rsi_w</th>\n",
              "      <th>ad_w</th>\n",
              "    </tr>\n",
              "  </thead>\n",
              "  <tbody>\n",
              "    <tr>\n",
              "      <th>24597</th>\n",
              "      <td>12.200000</td>\n",
              "      <td>6.698147</td>\n",
              "      <td>6.332111</td>\n",
              "      <td>0.366036</td>\n",
              "      <td>1.320197</td>\n",
              "      <td>4081.215789</td>\n",
              "    </tr>\n",
              "    <tr>\n",
              "      <th>22630</th>\n",
              "      <td>2.293333</td>\n",
              "      <td>-10.087122</td>\n",
              "      <td>-3.397035</td>\n",
              "      <td>-6.690088</td>\n",
              "      <td>-11.309699</td>\n",
              "      <td>-2331.369761</td>\n",
              "    </tr>\n",
              "    <tr>\n",
              "      <th>14738</th>\n",
              "      <td>-13.830000</td>\n",
              "      <td>-2.690497</td>\n",
              "      <td>-2.569892</td>\n",
              "      <td>-0.120605</td>\n",
              "      <td>3.882245</td>\n",
              "      <td>-8472.948522</td>\n",
              "    </tr>\n",
              "    <tr>\n",
              "      <th>50498</th>\n",
              "      <td>-33.816667</td>\n",
              "      <td>-9.113199</td>\n",
              "      <td>-6.859064</td>\n",
              "      <td>-2.254136</td>\n",
              "      <td>-2.187252</td>\n",
              "      <td>49286.320000</td>\n",
              "    </tr>\n",
              "    <tr>\n",
              "      <th>21166</th>\n",
              "      <td>2.953333</td>\n",
              "      <td>-8.038478</td>\n",
              "      <td>-2.893477</td>\n",
              "      <td>-5.145001</td>\n",
              "      <td>-7.889032</td>\n",
              "      <td>-14234.133333</td>\n",
              "    </tr>\n",
              "    <tr>\n",
              "      <th>...</th>\n",
              "      <td>...</td>\n",
              "      <td>...</td>\n",
              "      <td>...</td>\n",
              "      <td>...</td>\n",
              "      <td>...</td>\n",
              "      <td>...</td>\n",
              "    </tr>\n",
              "    <tr>\n",
              "      <th>69815</th>\n",
              "      <td>-9.383333</td>\n",
              "      <td>2.328874</td>\n",
              "      <td>1.505066</td>\n",
              "      <td>0.823808</td>\n",
              "      <td>3.297338</td>\n",
              "      <td>3015.000000</td>\n",
              "    </tr>\n",
              "    <tr>\n",
              "      <th>46214</th>\n",
              "      <td>-3.566667</td>\n",
              "      <td>4.536408</td>\n",
              "      <td>3.234773</td>\n",
              "      <td>1.301635</td>\n",
              "      <td>-3.286072</td>\n",
              "      <td>-8043.066667</td>\n",
              "    </tr>\n",
              "    <tr>\n",
              "      <th>51354</th>\n",
              "      <td>12.936667</td>\n",
              "      <td>-1.640134</td>\n",
              "      <td>7.595263</td>\n",
              "      <td>-9.235396</td>\n",
              "      <td>-16.883311</td>\n",
              "      <td>-12450.397143</td>\n",
              "    </tr>\n",
              "    <tr>\n",
              "      <th>70608</th>\n",
              "      <td>2.800000</td>\n",
              "      <td>-2.081730</td>\n",
              "      <td>-2.582127</td>\n",
              "      <td>0.500397</td>\n",
              "      <td>3.076279</td>\n",
              "      <td>3603.833333</td>\n",
              "    </tr>\n",
              "    <tr>\n",
              "      <th>15024</th>\n",
              "      <td>-4.760000</td>\n",
              "      <td>12.823529</td>\n",
              "      <td>8.026058</td>\n",
              "      <td>4.797471</td>\n",
              "      <td>17.094208</td>\n",
              "      <td>20478.944444</td>\n",
              "    </tr>\n",
              "  </tbody>\n",
              "</table>\n",
              "<p>62868 rows × 6 columns</p>\n",
              "</div>\n",
              "      <button class=\"colab-df-convert\" onclick=\"convertToInteractive('df-ae1474d8-525d-4e9f-9b04-8d2b68bb8d2a')\"\n",
              "              title=\"Convert this dataframe to an interactive table.\"\n",
              "              style=\"display:none;\">\n",
              "        \n",
              "  <svg xmlns=\"http://www.w3.org/2000/svg\" height=\"24px\"viewBox=\"0 0 24 24\"\n",
              "       width=\"24px\">\n",
              "    <path d=\"M0 0h24v24H0V0z\" fill=\"none\"/>\n",
              "    <path d=\"M18.56 5.44l.94 2.06.94-2.06 2.06-.94-2.06-.94-.94-2.06-.94 2.06-2.06.94zm-11 1L8.5 8.5l.94-2.06 2.06-.94-2.06-.94L8.5 2.5l-.94 2.06-2.06.94zm10 10l.94 2.06.94-2.06 2.06-.94-2.06-.94-.94-2.06-.94 2.06-2.06.94z\"/><path d=\"M17.41 7.96l-1.37-1.37c-.4-.4-.92-.59-1.43-.59-.52 0-1.04.2-1.43.59L10.3 9.45l-7.72 7.72c-.78.78-.78 2.05 0 2.83L4 21.41c.39.39.9.59 1.41.59.51 0 1.02-.2 1.41-.59l7.78-7.78 2.81-2.81c.8-.78.8-2.07 0-2.86zM5.41 20L4 18.59l7.72-7.72 1.47 1.35L5.41 20z\"/>\n",
              "  </svg>\n",
              "      </button>\n",
              "      \n",
              "  <style>\n",
              "    .colab-df-container {\n",
              "      display:flex;\n",
              "      flex-wrap:wrap;\n",
              "      gap: 12px;\n",
              "    }\n",
              "\n",
              "    .colab-df-convert {\n",
              "      background-color: #E8F0FE;\n",
              "      border: none;\n",
              "      border-radius: 50%;\n",
              "      cursor: pointer;\n",
              "      display: none;\n",
              "      fill: #1967D2;\n",
              "      height: 32px;\n",
              "      padding: 0 0 0 0;\n",
              "      width: 32px;\n",
              "    }\n",
              "\n",
              "    .colab-df-convert:hover {\n",
              "      background-color: #E2EBFA;\n",
              "      box-shadow: 0px 1px 2px rgba(60, 64, 67, 0.3), 0px 1px 3px 1px rgba(60, 64, 67, 0.15);\n",
              "      fill: #174EA6;\n",
              "    }\n",
              "\n",
              "    [theme=dark] .colab-df-convert {\n",
              "      background-color: #3B4455;\n",
              "      fill: #D2E3FC;\n",
              "    }\n",
              "\n",
              "    [theme=dark] .colab-df-convert:hover {\n",
              "      background-color: #434B5C;\n",
              "      box-shadow: 0px 1px 3px 1px rgba(0, 0, 0, 0.15);\n",
              "      filter: drop-shadow(0px 1px 2px rgba(0, 0, 0, 0.3));\n",
              "      fill: #FFFFFF;\n",
              "    }\n",
              "  </style>\n",
              "\n",
              "      <script>\n",
              "        const buttonEl =\n",
              "          document.querySelector('#df-ae1474d8-525d-4e9f-9b04-8d2b68bb8d2a button.colab-df-convert');\n",
              "        buttonEl.style.display =\n",
              "          google.colab.kernel.accessAllowed ? 'block' : 'none';\n",
              "\n",
              "        async function convertToInteractive(key) {\n",
              "          const element = document.querySelector('#df-ae1474d8-525d-4e9f-9b04-8d2b68bb8d2a');\n",
              "          const dataTable =\n",
              "            await google.colab.kernel.invokeFunction('convertToInteractive',\n",
              "                                                     [key], {});\n",
              "          if (!dataTable) return;\n",
              "\n",
              "          const docLinkHtml = 'Like what you see? Visit the ' +\n",
              "            '<a target=\"_blank\" href=https://colab.research.google.com/notebooks/data_table.ipynb>data table notebook</a>'\n",
              "            + ' to learn more about interactive tables.';\n",
              "          element.innerHTML = '';\n",
              "          dataTable['output_type'] = 'display_data';\n",
              "          await google.colab.output.renderOutput(dataTable, element);\n",
              "          const docLink = document.createElement('div');\n",
              "          docLink.innerHTML = docLinkHtml;\n",
              "          element.appendChild(docLink);\n",
              "        }\n",
              "      </script>\n",
              "    </div>\n",
              "  </div>\n",
              "  "
            ]
          },
          "metadata": {},
          "execution_count": 13
        }
      ]
    },
    {
      "cell_type": "code",
      "source": [
        "y_train"
      ],
      "metadata": {
        "colab": {
          "base_uri": "https://localhost:8080/"
        },
        "id": "yYZYut_kWjG9",
        "outputId": "42a2b23b-94aa-445a-d670-d7ca4c1cd70b"
      },
      "execution_count": 14,
      "outputs": [
        {
          "output_type": "execute_result",
          "data": {
            "text/plain": [
              "array([[0., 1., 0.],\n",
              "       [0., 1., 0.],\n",
              "       [0., 1., 0.],\n",
              "       ...,\n",
              "       [0., 1., 0.],\n",
              "       [1., 0., 0.],\n",
              "       [0., 1., 0.]])"
            ]
          },
          "metadata": {},
          "execution_count": 14
        }
      ]
    },
    {
      "cell_type": "code",
      "source": [
        "model = models.Sequential()\n",
        "model.add(layers.Dense(64, activation='relu', input_shape=(X_train.shape[1],)))\n",
        "model.add(layers.Dropout(rate=0.2))\n",
        "model.add(layers.Dense(32, activation='relu'))\n",
        "model.add(layers.Dense(3, activation='softmax'))"
      ],
      "metadata": {
        "id": "mwCUDPb_JQNR"
      },
      "execution_count": 15,
      "outputs": []
    },
    {
      "cell_type": "code",
      "source": [
        "reduce_lr = ReduceLROnPlateau(monitor='val_loss', factor=0.2, patience=5, min_lr=0.001)\n",
        "model.compile(optimizer=optimizers.Adagrad(lr=0.01),\n",
        "              loss=tfa.losses.SigmoidFocalCrossEntropy(),\n",
        "              metrics=[tfa.metrics.F1Score(3)])"
      ],
      "metadata": {
        "colab": {
          "base_uri": "https://localhost:8080/"
        },
        "id": "2c45FjnTI8s-",
        "outputId": "25c45c01-baf0-4a75-a85b-e4ac94ccf1e5"
      },
      "execution_count": 16,
      "outputs": [
        {
          "output_type": "stream",
          "name": "stderr",
          "text": [
            "/usr/local/lib/python3.8/dist-packages/keras/optimizers/optimizer_v2/adagrad.py:77: UserWarning: The `lr` argument is deprecated, use `learning_rate` instead.\n",
            "  super(Adagrad, self).__init__(name, **kwargs)\n"
          ]
        }
      ]
    },
    {
      "cell_type": "code",
      "source": [
        "model.summary()"
      ],
      "metadata": {
        "colab": {
          "base_uri": "https://localhost:8080/"
        },
        "id": "X7yKW8yPK-ut",
        "outputId": "358b6e59-9de5-41f5-f4ed-9be8cc37fb77"
      },
      "execution_count": 17,
      "outputs": [
        {
          "output_type": "stream",
          "name": "stdout",
          "text": [
            "Model: \"sequential\"\n",
            "_________________________________________________________________\n",
            " Layer (type)                Output Shape              Param #   \n",
            "=================================================================\n",
            " dense (Dense)               (None, 64)                448       \n",
            "                                                                 \n",
            " dropout (Dropout)           (None, 64)                0         \n",
            "                                                                 \n",
            " dense_1 (Dense)             (None, 32)                2080      \n",
            "                                                                 \n",
            " dense_2 (Dense)             (None, 3)                 99        \n",
            "                                                                 \n",
            "=================================================================\n",
            "Total params: 2,627\n",
            "Trainable params: 2,627\n",
            "Non-trainable params: 0\n",
            "_________________________________________________________________\n"
          ]
        }
      ]
    },
    {
      "cell_type": "code",
      "source": [
        "history = model.fit(X_train,\n",
        "                    y_train,\n",
        "                    epochs=100,\n",
        "                    batch_size=32,\n",
        "                    callbacks=[reduce_lr],\n",
        "                    validation_data=(X_val, y_val))"
      ],
      "metadata": {
        "colab": {
          "base_uri": "https://localhost:8080/"
        },
        "id": "SugueSXcI7cy",
        "outputId": "e2cacc52-50f9-4f6b-fb8e-2b7ecbf1408f"
      },
      "execution_count": null,
      "outputs": [
        {
          "output_type": "stream",
          "name": "stdout",
          "text": [
            "Epoch 1/100\n",
            "1965/1965 [==============================] - 6s 3ms/step - loss: 1.3622 - f1_score: 0.3304 - val_loss: 0.6466 - val_f1_score: 0.3261 - lr: 0.0100\n",
            "Epoch 2/100\n",
            "1965/1965 [==============================] - 5s 2ms/step - loss: 0.6507 - f1_score: 0.3261 - val_loss: 0.6466 - val_f1_score: 0.3261 - lr: 0.0100\n",
            "Epoch 3/100\n",
            "1965/1965 [==============================] - 5s 2ms/step - loss: 0.6504 - f1_score: 0.3261 - val_loss: 0.6466 - val_f1_score: 0.3261 - lr: 0.0100\n",
            "Epoch 4/100\n",
            "1965/1965 [==============================] - 5s 2ms/step - loss: 0.6503 - f1_score: 0.3261 - val_loss: 0.6466 - val_f1_score: 0.3261 - lr: 0.0100\n",
            "Epoch 5/100\n",
            "1965/1965 [==============================] - 5s 2ms/step - loss: 0.6504 - f1_score: 0.3261 - val_loss: 0.6466 - val_f1_score: 0.3261 - lr: 0.0100\n",
            "Epoch 6/100\n",
            "1965/1965 [==============================] - 5s 3ms/step - loss: 0.6502 - f1_score: 0.3261 - val_loss: 0.6466 - val_f1_score: 0.3261 - lr: 0.0100\n",
            "Epoch 7/100\n",
            "1965/1965 [==============================] - 5s 2ms/step - loss: 0.6502 - f1_score: 0.3261 - val_loss: 0.6466 - val_f1_score: 0.3261 - lr: 0.0020\n",
            "Epoch 8/100\n",
            "1965/1965 [==============================] - 5s 2ms/step - loss: 0.6505 - f1_score: 0.3261 - val_loss: 0.6466 - val_f1_score: 0.3261 - lr: 0.0020\n",
            "Epoch 9/100\n",
            "1965/1965 [==============================] - 5s 2ms/step - loss: 0.6506 - f1_score: 0.3261 - val_loss: 0.6466 - val_f1_score: 0.3261 - lr: 0.0020\n",
            "Epoch 10/100\n",
            "1965/1965 [==============================] - 6s 3ms/step - loss: 0.6504 - f1_score: 0.3261 - val_loss: 0.6466 - val_f1_score: 0.3261 - lr: 0.0020\n",
            "Epoch 11/100\n",
            "1965/1965 [==============================] - 15s 8ms/step - loss: 0.6501 - f1_score: 0.3261 - val_loss: 0.6466 - val_f1_score: 0.3261 - lr: 0.0020\n",
            "Epoch 12/100\n",
            "1965/1965 [==============================] - 9s 5ms/step - loss: 0.6506 - f1_score: 0.3261 - val_loss: 0.6466 - val_f1_score: 0.3261 - lr: 0.0010\n",
            "Epoch 13/100\n",
            "1965/1965 [==============================] - 5s 2ms/step - loss: 0.6504 - f1_score: 0.3261 - val_loss: 0.6466 - val_f1_score: 0.3261 - lr: 0.0010\n",
            "Epoch 14/100\n",
            "1965/1965 [==============================] - 5s 2ms/step - loss: 0.6501 - f1_score: 0.3261 - val_loss: 0.6466 - val_f1_score: 0.3261 - lr: 0.0010\n",
            "Epoch 15/100\n",
            "1965/1965 [==============================] - 5s 2ms/step - loss: 0.6504 - f1_score: 0.3261 - val_loss: 0.6466 - val_f1_score: 0.3261 - lr: 0.0010\n",
            "Epoch 16/100\n",
            "1965/1965 [==============================] - 5s 2ms/step - loss: 0.6504 - f1_score: 0.3261 - val_loss: 0.6466 - val_f1_score: 0.3261 - lr: 0.0010\n",
            "Epoch 17/100\n",
            "1965/1965 [==============================] - 5s 3ms/step - loss: 0.6503 - f1_score: 0.3261 - val_loss: 0.6466 - val_f1_score: 0.3261 - lr: 0.0010\n",
            "Epoch 18/100\n",
            "1965/1965 [==============================] - 5s 3ms/step - loss: 0.6503 - f1_score: 0.3261 - val_loss: 0.6466 - val_f1_score: 0.3261 - lr: 0.0010\n",
            "Epoch 19/100\n",
            "1965/1965 [==============================] - 5s 2ms/step - loss: 0.6497 - f1_score: 0.3261 - val_loss: 0.6466 - val_f1_score: 0.3261 - lr: 0.0010\n",
            "Epoch 20/100\n",
            "1965/1965 [==============================] - 5s 3ms/step - loss: 0.6507 - f1_score: 0.3261 - val_loss: 0.6466 - val_f1_score: 0.3261 - lr: 0.0010\n",
            "Epoch 21/100\n",
            "1965/1965 [==============================] - 5s 3ms/step - loss: 0.6508 - f1_score: 0.3261 - val_loss: 0.6466 - val_f1_score: 0.3261 - lr: 0.0010\n",
            "Epoch 22/100\n",
            "1965/1965 [==============================] - 5s 3ms/step - loss: 0.6502 - f1_score: 0.3261 - val_loss: 0.6466 - val_f1_score: 0.3261 - lr: 0.0010\n",
            "Epoch 23/100\n",
            "1965/1965 [==============================] - 7s 3ms/step - loss: 0.6505 - f1_score: 0.3261 - val_loss: 0.6466 - val_f1_score: 0.3261 - lr: 0.0010\n",
            "Epoch 24/100\n",
            "1965/1965 [==============================] - 12s 6ms/step - loss: 0.6502 - f1_score: 0.3261 - val_loss: 0.6466 - val_f1_score: 0.3261 - lr: 0.0010\n",
            "Epoch 25/100\n",
            "1965/1965 [==============================] - 8s 4ms/step - loss: 0.6505 - f1_score: 0.3266 - val_loss: 0.6466 - val_f1_score: 0.3261 - lr: 0.0010\n",
            "Epoch 26/100\n",
            "1965/1965 [==============================] - 4s 2ms/step - loss: 0.6506 - f1_score: 0.3261 - val_loss: 0.6466 - val_f1_score: 0.3261 - lr: 0.0010\n",
            "Epoch 27/100\n",
            "1965/1965 [==============================] - 4s 2ms/step - loss: 0.6502 - f1_score: 0.3261 - val_loss: 0.6466 - val_f1_score: 0.3261 - lr: 0.0010\n",
            "Epoch 28/100\n",
            "1965/1965 [==============================] - 5s 3ms/step - loss: 0.6503 - f1_score: 0.3261 - val_loss: 0.6466 - val_f1_score: 0.3261 - lr: 0.0010\n",
            "Epoch 29/100\n",
            "1965/1965 [==============================] - 4s 2ms/step - loss: 0.6505 - f1_score: 0.3261 - val_loss: 0.6466 - val_f1_score: 0.3261 - lr: 0.0010\n",
            "Epoch 30/100\n",
            "1965/1965 [==============================] - 5s 2ms/step - loss: 0.6514 - f1_score: 0.3261 - val_loss: 0.6466 - val_f1_score: 0.3261 - lr: 0.0010\n",
            "Epoch 31/100\n",
            "1965/1965 [==============================] - 5s 2ms/step - loss: 0.6499 - f1_score: 0.3261 - val_loss: 0.6466 - val_f1_score: 0.3261 - lr: 0.0010\n",
            "Epoch 32/100\n",
            "1965/1965 [==============================] - 5s 3ms/step - loss: 0.6501 - f1_score: 0.3261 - val_loss: 0.6466 - val_f1_score: 0.3261 - lr: 0.0010\n",
            "Epoch 33/100\n",
            "1965/1965 [==============================] - 5s 3ms/step - loss: 0.6508 - f1_score: 0.3261 - val_loss: 0.6466 - val_f1_score: 0.3261 - lr: 0.0010\n",
            "Epoch 34/100\n",
            "1965/1965 [==============================] - 5s 2ms/step - loss: 0.6508 - f1_score: 0.3261 - val_loss: 0.6466 - val_f1_score: 0.3261 - lr: 0.0010\n",
            "Epoch 35/100\n",
            "1965/1965 [==============================] - 4s 2ms/step - loss: 0.6502 - f1_score: 0.3261 - val_loss: 0.6466 - val_f1_score: 0.3261 - lr: 0.0010\n",
            "Epoch 36/100\n",
            "1965/1965 [==============================] - 5s 2ms/step - loss: 0.6506 - f1_score: 0.3261 - val_loss: 0.6466 - val_f1_score: 0.3261 - lr: 0.0010\n",
            "Epoch 37/100\n",
            "1965/1965 [==============================] - 5s 2ms/step - loss: 0.6502 - f1_score: 0.3261 - val_loss: 0.6466 - val_f1_score: 0.3261 - lr: 0.0010\n",
            "Epoch 38/100\n",
            "1965/1965 [==============================] - 5s 3ms/step - loss: 0.6504 - f1_score: 0.3261 - val_loss: 0.6466 - val_f1_score: 0.3261 - lr: 0.0010\n",
            "Epoch 39/100\n",
            "1965/1965 [==============================] - 5s 2ms/step - loss: 0.6502 - f1_score: 0.3261 - val_loss: 0.6466 - val_f1_score: 0.3261 - lr: 0.0010\n",
            "Epoch 40/100\n",
            "1965/1965 [==============================] - 5s 2ms/step - loss: 0.6499 - f1_score: 0.3261 - val_loss: 0.6466 - val_f1_score: 0.3261 - lr: 0.0010\n",
            "Epoch 41/100\n",
            "1965/1965 [==============================] - 5s 2ms/step - loss: 0.6503 - f1_score: 0.3261 - val_loss: 0.6466 - val_f1_score: 0.3261 - lr: 0.0010\n",
            "Epoch 42/100\n",
            "1965/1965 [==============================] - 5s 3ms/step - loss: 0.6503 - f1_score: 0.3261 - val_loss: 0.6466 - val_f1_score: 0.3261 - lr: 0.0010\n",
            "Epoch 43/100\n",
            "1965/1965 [==============================] - 5s 2ms/step - loss: 0.6502 - f1_score: 0.3261 - val_loss: 0.6466 - val_f1_score: 0.3261 - lr: 0.0010\n",
            "Epoch 44/100\n",
            "1965/1965 [==============================] - 5s 2ms/step - loss: 0.6502 - f1_score: 0.3261 - val_loss: 0.6466 - val_f1_score: 0.3261 - lr: 0.0010\n",
            "Epoch 45/100\n",
            "1965/1965 [==============================] - 10s 5ms/step - loss: 0.6503 - f1_score: 0.3261 - val_loss: 0.6466 - val_f1_score: 0.3261 - lr: 0.0010\n",
            "Epoch 46/100\n",
            "1965/1965 [==============================] - 7s 4ms/step - loss: 0.6504 - f1_score: 0.3261 - val_loss: 0.6466 - val_f1_score: 0.3261 - lr: 0.0010\n",
            "Epoch 47/100\n",
            "1965/1965 [==============================] - 9s 4ms/step - loss: 0.6501 - f1_score: 0.3261 - val_loss: 0.6466 - val_f1_score: 0.3261 - lr: 0.0010\n",
            "Epoch 48/100\n",
            "1965/1965 [==============================] - 7s 4ms/step - loss: 0.6505 - f1_score: 0.3261 - val_loss: 0.6466 - val_f1_score: 0.3261 - lr: 0.0010\n",
            "Epoch 49/100\n",
            "1965/1965 [==============================] - 6s 3ms/step - loss: 0.6503 - f1_score: 0.3261 - val_loss: 0.6466 - val_f1_score: 0.3261 - lr: 0.0010\n",
            "Epoch 50/100\n",
            "1965/1965 [==============================] - 7s 4ms/step - loss: 0.6504 - f1_score: 0.3261 - val_loss: 0.6466 - val_f1_score: 0.3261 - lr: 0.0010\n",
            "Epoch 51/100\n",
            "1965/1965 [==============================] - 7s 3ms/step - loss: 0.6503 - f1_score: 0.3261 - val_loss: 0.6466 - val_f1_score: 0.3261 - lr: 0.0010\n",
            "Epoch 52/100\n",
            "1965/1965 [==============================] - 9s 4ms/step - loss: 0.6503 - f1_score: 0.3261 - val_loss: 0.6466 - val_f1_score: 0.3261 - lr: 0.0010\n",
            "Epoch 53/100\n",
            "1965/1965 [==============================] - 9s 5ms/step - loss: 0.6508 - f1_score: 0.3261 - val_loss: 0.6466 - val_f1_score: 0.3261 - lr: 0.0010\n",
            "Epoch 54/100\n",
            "1965/1965 [==============================] - 7s 4ms/step - loss: 0.6508 - f1_score: 0.3261 - val_loss: 0.6466 - val_f1_score: 0.3261 - lr: 0.0010\n",
            "Epoch 55/100\n",
            "1965/1965 [==============================] - 6s 3ms/step - loss: 0.6502 - f1_score: 0.3261 - val_loss: 0.6466 - val_f1_score: 0.3261 - lr: 0.0010\n",
            "Epoch 56/100\n",
            "1965/1965 [==============================] - 5s 3ms/step - loss: 0.6503 - f1_score: 0.3261 - val_loss: 0.6466 - val_f1_score: 0.3261 - lr: 0.0010\n",
            "Epoch 57/100\n",
            "1965/1965 [==============================] - 8s 4ms/step - loss: 0.6507 - f1_score: 0.3261 - val_loss: 0.6466 - val_f1_score: 0.3261 - lr: 0.0010\n",
            "Epoch 58/100\n",
            "1965/1965 [==============================] - 11s 5ms/step - loss: 0.6501 - f1_score: 0.3261 - val_loss: 0.6466 - val_f1_score: 0.3261 - lr: 0.0010\n",
            "Epoch 59/100\n",
            "1965/1965 [==============================] - 8s 4ms/step - loss: 0.6504 - f1_score: 0.3261 - val_loss: 0.6466 - val_f1_score: 0.3261 - lr: 0.0010\n",
            "Epoch 60/100\n",
            "1965/1965 [==============================] - 7s 3ms/step - loss: 0.6502 - f1_score: 0.3261 - val_loss: 0.6466 - val_f1_score: 0.3261 - lr: 0.0010\n",
            "Epoch 61/100\n",
            "1965/1965 [==============================] - 7s 3ms/step - loss: 0.6503 - f1_score: 0.3261 - val_loss: 0.6466 - val_f1_score: 0.3261 - lr: 0.0010\n",
            "Epoch 62/100\n",
            "1965/1965 [==============================] - 9s 5ms/step - loss: 0.6503 - f1_score: 0.3261 - val_loss: 0.6466 - val_f1_score: 0.3261 - lr: 0.0010\n",
            "Epoch 63/100\n",
            "1965/1965 [==============================] - 5s 3ms/step - loss: 0.6501 - f1_score: 0.3261 - val_loss: 0.6466 - val_f1_score: 0.3261 - lr: 0.0010\n",
            "Epoch 64/100\n",
            "1965/1965 [==============================] - 4s 2ms/step - loss: 0.6504 - f1_score: 0.3261 - val_loss: 0.6466 - val_f1_score: 0.3261 - lr: 0.0010\n",
            "Epoch 65/100\n",
            "1965/1965 [==============================] - 5s 2ms/step - loss: 0.6501 - f1_score: 0.3261 - val_loss: 0.6466 - val_f1_score: 0.3261 - lr: 0.0010\n",
            "Epoch 66/100\n",
            "1965/1965 [==============================] - 5s 2ms/step - loss: 0.6501 - f1_score: 0.3261 - val_loss: 0.6466 - val_f1_score: 0.3261 - lr: 0.0010\n",
            "Epoch 67/100\n",
            "1965/1965 [==============================] - 5s 3ms/step - loss: 0.6502 - f1_score: 0.3261 - val_loss: 0.6466 - val_f1_score: 0.3261 - lr: 0.0010\n",
            "Epoch 68/100\n",
            "1965/1965 [==============================] - 4s 2ms/step - loss: 0.6503 - f1_score: 0.3261 - val_loss: 0.6466 - val_f1_score: 0.3261 - lr: 0.0010\n",
            "Epoch 69/100\n",
            "1965/1965 [==============================] - 5s 3ms/step - loss: 0.6502 - f1_score: 0.3261 - val_loss: 0.6466 - val_f1_score: 0.3261 - lr: 0.0010\n",
            "Epoch 70/100\n",
            "1965/1965 [==============================] - 5s 2ms/step - loss: 0.6502 - f1_score: 0.3261 - val_loss: 0.6466 - val_f1_score: 0.3261 - lr: 0.0010\n",
            "Epoch 71/100\n",
            "1965/1965 [==============================] - 5s 3ms/step - loss: 0.6503 - f1_score: 0.3261 - val_loss: 0.6466 - val_f1_score: 0.3261 - lr: 0.0010\n",
            "Epoch 72/100\n",
            "1965/1965 [==============================] - 5s 2ms/step - loss: 0.6507 - f1_score: 0.3261 - val_loss: 0.6466 - val_f1_score: 0.3261 - lr: 0.0010\n",
            "Epoch 73/100\n",
            "1965/1965 [==============================] - 5s 2ms/step - loss: 0.6501 - f1_score: 0.3261 - val_loss: 0.6466 - val_f1_score: 0.3261 - lr: 0.0010\n",
            "Epoch 74/100\n",
            "1965/1965 [==============================] - 5s 3ms/step - loss: 0.6502 - f1_score: 0.3261 - val_loss: 0.6466 - val_f1_score: 0.3261 - lr: 0.0010\n",
            "Epoch 75/100\n",
            "1965/1965 [==============================] - 6s 3ms/step - loss: 0.6500 - f1_score: 0.3261 - val_loss: 0.6466 - val_f1_score: 0.3261 - lr: 0.0010\n",
            "Epoch 76/100\n",
            "1965/1965 [==============================] - 5s 3ms/step - loss: 0.6507 - f1_score: 0.3261 - val_loss: 0.6466 - val_f1_score: 0.3261 - lr: 0.0010\n",
            "Epoch 77/100\n",
            "1965/1965 [==============================] - 5s 2ms/step - loss: 0.6505 - f1_score: 0.3261 - val_loss: 0.6466 - val_f1_score: 0.3261 - lr: 0.0010\n",
            "Epoch 78/100\n",
            "1965/1965 [==============================] - 5s 3ms/step - loss: 0.6501 - f1_score: 0.3261 - val_loss: 0.6466 - val_f1_score: 0.3261 - lr: 0.0010\n",
            "Epoch 79/100\n",
            "1965/1965 [==============================] - 5s 3ms/step - loss: 0.6507 - f1_score: 0.3261 - val_loss: 0.6466 - val_f1_score: 0.3261 - lr: 0.0010\n",
            "Epoch 80/100\n",
            "1965/1965 [==============================] - 5s 2ms/step - loss: 0.6510 - f1_score: 0.3261 - val_loss: 0.6466 - val_f1_score: 0.3261 - lr: 0.0010\n",
            "Epoch 81/100\n",
            "1965/1965 [==============================] - 5s 2ms/step - loss: 0.6508 - f1_score: 0.3261 - val_loss: 0.6466 - val_f1_score: 0.3261 - lr: 0.0010\n",
            "Epoch 82/100\n",
            "1965/1965 [==============================] - 5s 2ms/step - loss: 0.6500 - f1_score: 0.3261 - val_loss: 0.6466 - val_f1_score: 0.3261 - lr: 0.0010\n",
            "Epoch 83/100\n",
            "1965/1965 [==============================] - 5s 2ms/step - loss: 0.6504 - f1_score: 0.3261 - val_loss: 0.6466 - val_f1_score: 0.3261 - lr: 0.0010\n",
            "Epoch 84/100\n",
            "1965/1965 [==============================] - 5s 3ms/step - loss: 0.6506 - f1_score: 0.3261 - val_loss: 0.6466 - val_f1_score: 0.3261 - lr: 0.0010\n",
            "Epoch 85/100\n",
            "1965/1965 [==============================] - 6s 3ms/step - loss: 0.6505 - f1_score: 0.3261 - val_loss: 0.6466 - val_f1_score: 0.3261 - lr: 0.0010\n",
            "Epoch 86/100\n",
            "1965/1965 [==============================] - 6s 3ms/step - loss: 0.6504 - f1_score: 0.3261 - val_loss: 0.6466 - val_f1_score: 0.3261 - lr: 0.0010\n",
            "Epoch 87/100\n",
            "1965/1965 [==============================] - 7s 3ms/step - loss: 0.6500 - f1_score: 0.3261 - val_loss: 0.6466 - val_f1_score: 0.3261 - lr: 0.0010\n",
            "Epoch 88/100\n",
            "1965/1965 [==============================] - 6s 3ms/step - loss: 0.6503 - f1_score: 0.3261 - val_loss: 0.6466 - val_f1_score: 0.3261 - lr: 0.0010\n",
            "Epoch 89/100\n",
            "1965/1965 [==============================] - 5s 2ms/step - loss: 0.6501 - f1_score: 0.3261 - val_loss: 0.6466 - val_f1_score: 0.3261 - lr: 0.0010\n",
            "Epoch 90/100\n",
            "1965/1965 [==============================] - 6s 3ms/step - loss: 0.6501 - f1_score: 0.3261 - val_loss: 0.6466 - val_f1_score: 0.3261 - lr: 0.0010\n",
            "Epoch 91/100\n",
            "1965/1965 [==============================] - 6s 3ms/step - loss: 0.6505 - f1_score: 0.3261 - val_loss: 0.6466 - val_f1_score: 0.3261 - lr: 0.0010\n",
            "Epoch 92/100\n",
            "1965/1965 [==============================] - 5s 2ms/step - loss: 0.6503 - f1_score: 0.3261 - val_loss: 0.6466 - val_f1_score: 0.3261 - lr: 0.0010\n",
            "Epoch 93/100\n",
            "1965/1965 [==============================] - 5s 2ms/step - loss: 0.6502 - f1_score: 0.3261 - val_loss: 0.6466 - val_f1_score: 0.3261 - lr: 0.0010\n",
            "Epoch 94/100\n",
            "1965/1965 [==============================] - 5s 3ms/step - loss: 0.6503 - f1_score: 0.3261 - val_loss: 0.6466 - val_f1_score: 0.3261 - lr: 0.0010\n",
            "Epoch 95/100\n",
            "1965/1965 [==============================] - 5s 2ms/step - loss: 0.6504 - f1_score: 0.3261 - val_loss: 0.6466 - val_f1_score: 0.3261 - lr: 0.0010\n",
            "Epoch 96/100\n",
            "1965/1965 [==============================] - 5s 3ms/step - loss: 0.6502 - f1_score: 0.3261 - val_loss: 0.6466 - val_f1_score: 0.3261 - lr: 0.0010\n",
            "Epoch 97/100\n",
            "1965/1965 [==============================] - 5s 3ms/step - loss: 0.6501 - f1_score: 0.3261 - val_loss: 0.6466 - val_f1_score: 0.3261 - lr: 0.0010\n",
            "Epoch 98/100\n",
            "1965/1965 [==============================] - 5s 3ms/step - loss: 0.6505 - f1_score: 0.3261 - val_loss: 0.6466 - val_f1_score: 0.3261 - lr: 0.0010\n",
            "Epoch 99/100\n",
            "1965/1965 [==============================] - 5s 2ms/step - loss: 0.6502 - f1_score: 0.3261 - val_loss: 0.6466 - val_f1_score: 0.3261 - lr: 0.0010\n",
            "Epoch 100/100\n",
            "1965/1965 [==============================] - 5s 3ms/step - loss: 0.6505 - f1_score: 0.3261 - val_loss: 0.6466 - val_f1_score: 0.3261 - lr: 0.0010\n"
          ]
        }
      ]
    },
    {
      "cell_type": "code",
      "source": [
        "loss = history.history['loss']\n",
        "val_loss = history.history['val_loss']\n",
        "\n",
        "epochs = range(1, len(loss) + 1)\n",
        "\n",
        "plt.ylim([0.6, 0.7])\n",
        "plt.plot(epochs, loss, '.', label='Training loss', color='lightgreen')\n",
        "plt.plot(epochs, val_loss, '-', label='Validation loss', color='lightblue')\n",
        "plt.title('Training and validation loss')\n",
        "plt.xlabel('Epochs')\n",
        "plt.ylabel('Loss')\n",
        "plt.legend()\n",
        "\n",
        "plt.show()"
      ],
      "metadata": {
        "colab": {
          "base_uri": "https://localhost:8080/",
          "height": 295
        },
        "id": "5OozfnwRO3c0",
        "outputId": "2cdd0f2a-5688-46fb-fcc3-089b20ccdae3"
      },
      "execution_count": null,
      "outputs": [
        {
          "output_type": "display_data",
          "data": {
            "text/plain": [
              "<Figure size 432x288 with 1 Axes>"
            ],
            "image/png": "[encoded data removed]"
          },
          "metadata": {
            "needs_background": "light"
          }
        }
      ]
    },
    {
      "cell_type": "code",
      "source": [
        "plt.clf()\n",
        "\n",
        "f1 = list(map(np.mean,history.history['f1_score']))\n",
        "val_f1 = list(map(np.mean,history.history['val_f1_score'])) \n",
        "\n",
        "plt.ylim([0.326, 0.327])\n",
        "plt.plot(epochs, f1, '.', label='Training f1', color='lightgreen')\n",
        "plt.plot(epochs, val_f1, '-', label='Validation f1', color='lightblue')\n",
        "plt.title('Training and validation f1 score')\n",
        "plt.xlabel('Epochs')\n",
        "plt.ylabel('F1 score')\n",
        "plt.legend()\n",
        "\n",
        "plt.show()"
      ],
      "metadata": {
        "colab": {
          "base_uri": "https://localhost:8080/",
          "height": 295
        },
        "id": "RfTL30a9O37u",
        "outputId": "1185409a-b27b-4eec-80a7-76c01c1151c8"
      },
      "execution_count": null,
      "outputs": [
        {
          "output_type": "display_data",
          "data": {
            "text/plain": [
              "<Figure size 432x288 with 1 Axes>"
            ],
            "image/png": "[encoded data removed]"
          },
          "metadata": {
            "needs_background": "light"
          }
        }
      ]
    },
    {
      "cell_type": "code",
      "source": [
        "y_pred = pd.DataFrame(model.predict(X_test)).round(0)"
      ],
      "metadata": {
        "colab": {
          "base_uri": "https://localhost:8080/"
        },
        "id": "y2Pl-3a1RQ92",
        "outputId": "e0c30711-2578-49ce-f891-3081ccf4d4f2"
      },
      "execution_count": null,
      "outputs": [
        {
          "output_type": "stream",
          "name": "stdout",
          "text": [
            "573/573 [==============================] - 1s 2ms/step\n"
          ]
        }
      ]
    },
    {
      "cell_type": "code",
      "source": [
        "# accuracy\n",
        "1-len(y_pred.compare(pd.DataFrame(y_test)))/len(y_pred)"
      ],
      "metadata": {
        "colab": {
          "base_uri": "https://localhost:8080/"
        },
        "id": "7D4_Lxwybh_3",
        "outputId": "d513144c-f084-42ee-9e30-bf8a4fe516d4"
      },
      "execution_count": null,
      "outputs": [
        {
          "output_type": "execute_result",
          "data": {
            "text/plain": [
              "0.9439869102808836"
            ]
          },
          "metadata": {},
          "execution_count": 176
        }
      ]
    },
    {
      "cell_type": "code",
      "source": [
        "pip install git+https://github.com/microsoft/FLAML.git"
      ],
      "metadata": {
        "colab": {
          "base_uri": "https://localhost:8080/",
          "height": 625
        },
        "id": "Uhj2ix8cQE3U",
        "outputId": "2e9f62cb-6f28-4810-fe1f-b99281799771"
      },
      "execution_count": null,
      "outputs": [
        {
          "output_type": "stream",
          "name": "stdout",
          "text": [
            "Looking in indexes: https://pypi.org/simple, https://us-python.pkg.dev/colab-wheels/public/simple/\n",
            "Collecting git+https://github.com/microsoft/FLAML.git\n",
            "  Cloning https://github.com/microsoft/FLAML.git to /tmp/pip-req-build-75pa_2ap\n",
            "  Running command git clone -q https://github.com/microsoft/FLAML.git /tmp/pip-req-build-75pa_2ap\n",
            "Requirement already satisfied: NumPy>=1.17.0rc1 in /usr/local/lib/python3.8/dist-packages (from FLAML==1.1.0) (1.21.6)\n",
            "Requirement already satisfied: lightgbm>=2.3.1 in /usr/local/lib/python3.8/dist-packages (from FLAML==1.1.0) (3.3.3)\n",
            "Requirement already satisfied: xgboost>=0.90 in /usr/local/lib/python3.8/dist-packages (from FLAML==1.1.0) (0.90)\n",
            "Requirement already satisfied: scipy>=1.4.1 in /usr/local/lib/python3.8/dist-packages (from FLAML==1.1.0) (1.7.3)\n",
            "Requirement already satisfied: pandas>=1.1.4 in /usr/local/lib/python3.8/dist-packages (from FLAML==1.1.0) (1.3.5)\n",
            "Requirement already satisfied: scikit-learn>=0.24 in /usr/local/lib/python3.8/dist-packages (from FLAML==1.1.0) (1.0.2)\n",
            "Requirement already satisfied: wheel in /usr/local/lib/python3.8/dist-packages (from lightgbm>=2.3.1->FLAML==1.1.0) (0.38.4)\n",
            "Requirement already satisfied: python-dateutil>=2.7.3 in /usr/local/lib/python3.8/dist-packages (from pandas>=1.1.4->FLAML==1.1.0) (2.8.2)\n",
            "Requirement already satisfied: pytz>=2017.3 in /usr/local/lib/python3.8/dist-packages (from pandas>=1.1.4->FLAML==1.1.0) (2022.6)\n",
            "Requirement already satisfied: six>=1.5 in /usr/local/lib/python3.8/dist-packages (from python-dateutil>=2.7.3->pandas>=1.1.4->FLAML==1.1.0) (1.15.0)\n",
            "Requirement already satisfied: joblib>=0.11 in /usr/local/lib/python3.8/dist-packages (from scikit-learn>=0.24->FLAML==1.1.0) (1.2.0)\n",
            "Requirement already satisfied: threadpoolctl>=2.0.0 in /usr/local/lib/python3.8/dist-packages (from scikit-learn>=0.24->FLAML==1.1.0) (3.1.0)\n",
            "Building wheels for collected packages: FLAML\n",
            "  Building wheel for FLAML (setup.py) ... \u001b[?25l\u001b[?25hdone\n",
            "  Created wheel for FLAML: filename=FLAML-1.1.0-py3-none-any.whl size=219759 sha256=2bf0327140a29f8032178f9285fb8a41be039392bd1a9ba62813873e087db2ce\n",
            "  Stored in directory: /tmp/pip-ephem-wheel-cache-8i7e7b92/wheels/5c/1a/48/c07dfe482b630f96d7258700d361a971759465895f9dd768ee\n",
            "Successfully built FLAML\n",
            "Installing collected packages: FLAML\n",
            "  Attempting uninstall: FLAML\n",
            "    Found existing installation: FLAML 1.0.14\n",
            "    Uninstalling FLAML-1.0.14:\n",
            "      Successfully uninstalled FLAML-1.0.14\n",
            "Successfully installed FLAML-1.1.0\n"
          ]
        },
        {
          "output_type": "display_data",
          "data": {
            "application/vnd.colab-display-data+json": {
              "pip_warning": {
                "packages": [
                  "flaml"
                ]
              }
            }
          },
          "metadata": {}
        }
      ]
    },
    {
      "cell_type": "code",
      "source": [
        "X_test = X[78586:]\n",
        "y_test = y[78586:]\n",
        "X_data = X[:78586]\n",
        "y_data = y[:78586]\n",
        "X_train, X_val, y_train, y_val = train_test_split(X_data, y_data, test_size=0.2, shuffle=True,\n",
        "                                                      stratify=y_data, random_state=12)"
      ],
      "metadata": {
        "id": "EpfC6sq1UDqS"
      },
      "execution_count": 18,
      "outputs": []
    },
    {
      "cell_type": "code",
      "source": [
        "X_train"
      ],
      "metadata": {
        "colab": {
          "base_uri": "https://localhost:8080/",
          "height": 424
        },
        "id": "JjIvdouPWySs",
        "outputId": "2c46b8c4-42de-4237-8e72-f2f9369256b5"
      },
      "execution_count": 19,
      "outputs": [
        {
          "output_type": "execute_result",
          "data": {
            "text/plain": [
              "            ma_w     macd_w  macdsignal_w  macdhist_w      rsi_w          ad_w\n",
              "24597  12.200000   6.698147      6.332111    0.366036   1.320197   4081.215789\n",
              "22630   2.293333 -10.087122     -3.397035   -6.690088 -11.309699  -2331.369761\n",
              "14738 -13.830000  -2.690497     -2.569892   -0.120605   3.882245  -8472.948522\n",
              "50497 -34.236667 -10.165815     -6.295530   -3.870285  -2.723221  51012.290000\n",
              "21166   2.953333  -8.038478     -2.893477   -5.145001  -7.889032 -14234.133333\n",
              "...          ...        ...           ...         ...        ...           ...\n",
              "69815  -9.383333   2.328874      1.505066    0.823808   3.297338   3015.000000\n",
              "46214  -3.566667   4.536408      3.234773    1.301635  -3.286072  -8043.066667\n",
              "51354  12.936667  -1.640134      7.595263   -9.235396 -16.883311 -12450.397143\n",
              "70839  20.283333  -5.939089     -5.549629   -0.389460  -0.074745  42065.650000\n",
              "15024  -4.760000  12.823529      8.026058    4.797471  17.094208  20478.944444\n",
              "\n",
              "[62868 rows x 6 columns]"
            ],
            "text/html": [
              "\n",
              "  <div id=\"df-f22cd76c-663b-4f42-8d15-98ca2cb94085\">\n",
              "    <div class=\"colab-df-container\">\n",
              "      <div>\n",
              "<style scoped>\n",
              "    .dataframe tbody tr th:only-of-type {\n",
              "        vertical-align: middle;\n",
              "    }\n",
              "\n",
              "    .dataframe tbody tr th {\n",
              "        vertical-align: top;\n",
              "    }\n",
              "\n",
              "    .dataframe thead th {\n",
              "        text-align: right;\n",
              "    }\n",
              "</style>\n",
              "<table border=\"1\" class=\"dataframe\">\n",
              "  <thead>\n",
              "    <tr style=\"text-align: right;\">\n",
              "      <th></th>\n",
              "      <th>ma_w</th>\n",
              "      <th>macd_w</th>\n",
              "      <th>macdsignal_w</th>\n",
              "      <th>macdhist_w</th>\n",
              "      <th>rsi_w</th>\n",
              "      <th>ad_w</th>\n",
              "    </tr>\n",
              "  </thead>\n",
              "  <tbody>\n",
              "    <tr>\n",
              "      <th>24597</th>\n",
              "      <td>12.200000</td>\n",
              "      <td>6.698147</td>\n",
              "      <td>6.332111</td>\n",
              "      <td>0.366036</td>\n",
              "      <td>1.320197</td>\n",
              "      <td>4081.215789</td>\n",
              "    </tr>\n",
              "    <tr>\n",
              "      <th>22630</th>\n",
              "      <td>2.293333</td>\n",
              "      <td>-10.087122</td>\n",
              "      <td>-3.397035</td>\n",
              "      <td>-6.690088</td>\n",
              "      <td>-11.309699</td>\n",
              "      <td>-2331.369761</td>\n",
              "    </tr>\n",
              "    <tr>\n",
              "      <th>14738</th>\n",
              "      <td>-13.830000</td>\n",
              "      <td>-2.690497</td>\n",
              "      <td>-2.569892</td>\n",
              "      <td>-0.120605</td>\n",
              "      <td>3.882245</td>\n",
              "      <td>-8472.948522</td>\n",
              "    </tr>\n",
              "    <tr>\n",
              "      <th>50497</th>\n",
              "      <td>-34.236667</td>\n",
              "      <td>-10.165815</td>\n",
              "      <td>-6.295530</td>\n",
              "      <td>-3.870285</td>\n",
              "      <td>-2.723221</td>\n",
              "      <td>51012.290000</td>\n",
              "    </tr>\n",
              "    <tr>\n",
              "      <th>21166</th>\n",
              "      <td>2.953333</td>\n",
              "      <td>-8.038478</td>\n",
              "      <td>-2.893477</td>\n",
              "      <td>-5.145001</td>\n",
              "      <td>-7.889032</td>\n",
              "      <td>-14234.133333</td>\n",
              "    </tr>\n",
              "    <tr>\n",
              "      <th>...</th>\n",
              "      <td>...</td>\n",
              "      <td>...</td>\n",
              "      <td>...</td>\n",
              "      <td>...</td>\n",
              "      <td>...</td>\n",
              "      <td>...</td>\n",
              "    </tr>\n",
              "    <tr>\n",
              "      <th>69815</th>\n",
              "      <td>-9.383333</td>\n",
              "      <td>2.328874</td>\n",
              "      <td>1.505066</td>\n",
              "      <td>0.823808</td>\n",
              "      <td>3.297338</td>\n",
              "      <td>3015.000000</td>\n",
              "    </tr>\n",
              "    <tr>\n",
              "      <th>46214</th>\n",
              "      <td>-3.566667</td>\n",
              "      <td>4.536408</td>\n",
              "      <td>3.234773</td>\n",
              "      <td>1.301635</td>\n",
              "      <td>-3.286072</td>\n",
              "      <td>-8043.066667</td>\n",
              "    </tr>\n",
              "    <tr>\n",
              "      <th>51354</th>\n",
              "      <td>12.936667</td>\n",
              "      <td>-1.640134</td>\n",
              "      <td>7.595263</td>\n",
              "      <td>-9.235396</td>\n",
              "      <td>-16.883311</td>\n",
              "      <td>-12450.397143</td>\n",
              "    </tr>\n",
              "    <tr>\n",
              "      <th>70839</th>\n",
              "      <td>20.283333</td>\n",
              "      <td>-5.939089</td>\n",
              "      <td>-5.549629</td>\n",
              "      <td>-0.389460</td>\n",
              "      <td>-0.074745</td>\n",
              "      <td>42065.650000</td>\n",
              "    </tr>\n",
              "    <tr>\n",
              "      <th>15024</th>\n",
              "      <td>-4.760000</td>\n",
              "      <td>12.823529</td>\n",
              "      <td>8.026058</td>\n",
              "      <td>4.797471</td>\n",
              "      <td>17.094208</td>\n",
              "      <td>20478.944444</td>\n",
              "    </tr>\n",
              "  </tbody>\n",
              "</table>\n",
              "<p>62868 rows × 6 columns</p>\n",
              "</div>\n",
              "      <button class=\"colab-df-convert\" onclick=\"convertToInteractive('df-f22cd76c-663b-4f42-8d15-98ca2cb94085')\"\n",
              "              title=\"Convert this dataframe to an interactive table.\"\n",
              "              style=\"display:none;\">\n",
              "        \n",
              "  <svg xmlns=\"http://www.w3.org/2000/svg\" height=\"24px\"viewBox=\"0 0 24 24\"\n",
              "       width=\"24px\">\n",
              "    <path d=\"M0 0h24v24H0V0z\" fill=\"none\"/>\n",
              "    <path d=\"M18.56 5.44l.94 2.06.94-2.06 2.06-.94-2.06-.94-.94-2.06-.94 2.06-2.06.94zm-11 1L8.5 8.5l.94-2.06 2.06-.94-2.06-.94L8.5 2.5l-.94 2.06-2.06.94zm10 10l.94 2.06.94-2.06 2.06-.94-2.06-.94-.94-2.06-.94 2.06-2.06.94z\"/><path d=\"M17.41 7.96l-1.37-1.37c-.4-.4-.92-.59-1.43-.59-.52 0-1.04.2-1.43.59L10.3 9.45l-7.72 7.72c-.78.78-.78 2.05 0 2.83L4 21.41c.39.39.9.59 1.41.59.51 0 1.02-.2 1.41-.59l7.78-7.78 2.81-2.81c.8-.78.8-2.07 0-2.86zM5.41 20L4 18.59l7.72-7.72 1.47 1.35L5.41 20z\"/>\n",
              "  </svg>\n",
              "      </button>\n",
              "      \n",
              "  <style>\n",
              "    .colab-df-container {\n",
              "      display:flex;\n",
              "      flex-wrap:wrap;\n",
              "      gap: 12px;\n",
              "    }\n",
              "\n",
              "    .colab-df-convert {\n",
              "      background-color: #E8F0FE;\n",
              "      border: none;\n",
              "      border-radius: 50%;\n",
              "      cursor: pointer;\n",
              "      display: none;\n",
              "      fill: #1967D2;\n",
              "      height: 32px;\n",
              "      padding: 0 0 0 0;\n",
              "      width: 32px;\n",
              "    }\n",
              "\n",
              "    .colab-df-convert:hover {\n",
              "      background-color: #E2EBFA;\n",
              "      box-shadow: 0px 1px 2px rgba(60, 64, 67, 0.3), 0px 1px 3px 1px rgba(60, 64, 67, 0.15);\n",
              "      fill: #174EA6;\n",
              "    }\n",
              "\n",
              "    [theme=dark] .colab-df-convert {\n",
              "      background-color: #3B4455;\n",
              "      fill: #D2E3FC;\n",
              "    }\n",
              "\n",
              "    [theme=dark] .colab-df-convert:hover {\n",
              "      background-color: #434B5C;\n",
              "      box-shadow: 0px 1px 3px 1px rgba(0, 0, 0, 0.15);\n",
              "      filter: drop-shadow(0px 1px 2px rgba(0, 0, 0, 0.3));\n",
              "      fill: #FFFFFF;\n",
              "    }\n",
              "  </style>\n",
              "\n",
              "      <script>\n",
              "        const buttonEl =\n",
              "          document.querySelector('#df-f22cd76c-663b-4f42-8d15-98ca2cb94085 button.colab-df-convert');\n",
              "        buttonEl.style.display =\n",
              "          google.colab.kernel.accessAllowed ? 'block' : 'none';\n",
              "\n",
              "        async function convertToInteractive(key) {\n",
              "          const element = document.querySelector('#df-f22cd76c-663b-4f42-8d15-98ca2cb94085');\n",
              "          const dataTable =\n",
              "            await google.colab.kernel.invokeFunction('convertToInteractive',\n",
              "                                                     [key], {});\n",
              "          if (!dataTable) return;\n",
              "\n",
              "          const docLinkHtml = 'Like what you see? Visit the ' +\n",
              "            '<a target=\"_blank\" href=https://colab.research.google.com/notebooks/data_table.ipynb>data table notebook</a>'\n",
              "            + ' to learn more about interactive tables.';\n",
              "          element.innerHTML = '';\n",
              "          dataTable['output_type'] = 'display_data';\n",
              "          await google.colab.output.renderOutput(dataTable, element);\n",
              "          const docLink = document.createElement('div');\n",
              "          docLink.innerHTML = docLinkHtml;\n",
              "          element.appendChild(docLink);\n",
              "        }\n",
              "      </script>\n",
              "    </div>\n",
              "  </div>\n",
              "  "
            ]
          },
          "metadata": {},
          "execution_count": 19
        }
      ]
    },
    {
      "cell_type": "code",
      "source": [
        "y_train"
      ],
      "metadata": {
        "colab": {
          "base_uri": "https://localhost:8080/"
        },
        "id": "1Y2e0jRZW0CJ",
        "outputId": "c8327a04-992a-4813-841b-6801c129bb02"
      },
      "execution_count": 20,
      "outputs": [
        {
          "output_type": "execute_result",
          "data": {
            "text/plain": [
              "24597    H\n",
              "22630    H\n",
              "14738    H\n",
              "50497    B\n",
              "21166    H\n",
              "        ..\n",
              "69815    H\n",
              "46214    H\n",
              "51354    H\n",
              "70839    S\n",
              "15024    H\n",
              "Name: label, Length: 62868, dtype: object"
            ]
          },
          "metadata": {},
          "execution_count": 20
        }
      ]
    },
    {
      "cell_type": "code",
      "source": [
        "from flaml import AutoML\n",
        "automl = AutoML()\n",
        "\n",
        "automl.fit(X_train, y_train,\n",
        "           task='classification',\n",
        "           X_val=X_val, y_val=y_val,\n",
        "           time_budget=60*10,\n",
        "           log_file_name='.automl.log',\n",
        "           estimator_list=['lgbm'])"
      ],
      "metadata": {
        "colab": {
          "base_uri": "https://localhost:8080/"
        },
        "id": "qHEHUqYrL7xB",
        "outputId": "e2db7cfa-4cc0-487a-f964-2b886ea0d2ce"
      },
      "execution_count": null,
      "outputs": [
        {
          "output_type": "stream",
          "name": "stderr",
          "text": [
            "[flaml.automl: 12-11 13:12:14] {2599} INFO - task = classification\n",
            "INFO:flaml.automl:task = classification\n",
            "[flaml.automl: 12-11 13:12:14] {2601} INFO - Data split method: stratified\n",
            "INFO:flaml.automl:Data split method: stratified\n",
            "[flaml.automl: 12-11 13:12:14] {2604} INFO - Evaluation method: holdout\n",
            "INFO:flaml.automl:Evaluation method: holdout\n",
            "[flaml.automl: 12-11 13:12:14] {2726} INFO - Minimizing error metric: log_loss\n",
            "INFO:flaml.automl:Minimizing error metric: log_loss\n",
            "[flaml.automl: 12-11 13:12:14] {2870} INFO - List of ML learners in AutoML Run: ['lgbm']\n",
            "INFO:flaml.automl:List of ML learners in AutoML Run: ['lgbm']\n",
            "[flaml.automl: 12-11 13:12:14] {3166} INFO - iteration 0, current learner lgbm\n",
            "INFO:flaml.automl:iteration 0, current learner lgbm\n",
            "[flaml.automl: 12-11 13:12:14] {3296} INFO - Estimated sufficient time budget=7263s. Estimated necessary time budget=7s.\n",
            "INFO:flaml.automl:Estimated sufficient time budget=7263s. Estimated necessary time budget=7s.\n",
            "[flaml.automl: 12-11 13:12:14] {3343} INFO -  at 0.6s,\testimator lgbm's best error=0.1848,\tbest estimator lgbm's best error=0.1848\n",
            "INFO:flaml.automl: at 0.6s,\testimator lgbm's best error=0.1848,\tbest estimator lgbm's best error=0.1848\n",
            "[flaml.automl: 12-11 13:12:14] {3166} INFO - iteration 1, current learner lgbm\n",
            "INFO:flaml.automl:iteration 1, current learner lgbm\n",
            "[flaml.automl: 12-11 13:12:14] {3343} INFO -  at 0.7s,\testimator lgbm's best error=0.1848,\tbest estimator lgbm's best error=0.1848\n",
            "INFO:flaml.automl: at 0.7s,\testimator lgbm's best error=0.1848,\tbest estimator lgbm's best error=0.1848\n",
            "[flaml.automl: 12-11 13:12:14] {3166} INFO - iteration 2, current learner lgbm\n",
            "INFO:flaml.automl:iteration 2, current learner lgbm\n",
            "[flaml.automl: 12-11 13:12:14] {3343} INFO -  at 0.8s,\testimator lgbm's best error=0.1764,\tbest estimator lgbm's best error=0.1764\n",
            "INFO:flaml.automl: at 0.8s,\testimator lgbm's best error=0.1764,\tbest estimator lgbm's best error=0.1764\n",
            "[flaml.automl: 12-11 13:12:14] {3166} INFO - iteration 3, current learner lgbm\n",
            "INFO:flaml.automl:iteration 3, current learner lgbm\n",
            "[flaml.automl: 12-11 13:12:14] {3343} INFO -  at 0.8s,\testimator lgbm's best error=0.1764,\tbest estimator lgbm's best error=0.1764\n",
            "INFO:flaml.automl: at 0.8s,\testimator lgbm's best error=0.1764,\tbest estimator lgbm's best error=0.1764\n",
            "[flaml.automl: 12-11 13:12:14] {3166} INFO - iteration 4, current learner lgbm\n",
            "INFO:flaml.automl:iteration 4, current learner lgbm\n",
            "[flaml.automl: 12-11 13:12:14] {3343} INFO -  at 0.9s,\testimator lgbm's best error=0.1764,\tbest estimator lgbm's best error=0.1764\n",
            "INFO:flaml.automl: at 0.9s,\testimator lgbm's best error=0.1764,\tbest estimator lgbm's best error=0.1764\n",
            "[flaml.automl: 12-11 13:12:14] {3166} INFO - iteration 5, current learner lgbm\n",
            "INFO:flaml.automl:iteration 5, current learner lgbm\n",
            "[flaml.automl: 12-11 13:12:14] {3343} INFO -  at 0.9s,\testimator lgbm's best error=0.1764,\tbest estimator lgbm's best error=0.1764\n",
            "INFO:flaml.automl: at 0.9s,\testimator lgbm's best error=0.1764,\tbest estimator lgbm's best error=0.1764\n",
            "[flaml.automl: 12-11 13:12:14] {3166} INFO - iteration 6, current learner lgbm\n",
            "INFO:flaml.automl:iteration 6, current learner lgbm\n",
            "[flaml.automl: 12-11 13:12:14] {3343} INFO -  at 1.1s,\testimator lgbm's best error=0.1750,\tbest estimator lgbm's best error=0.1750\n",
            "INFO:flaml.automl: at 1.1s,\testimator lgbm's best error=0.1750,\tbest estimator lgbm's best error=0.1750\n",
            "[flaml.automl: 12-11 13:12:14] {3166} INFO - iteration 7, current learner lgbm\n",
            "INFO:flaml.automl:iteration 7, current learner lgbm\n",
            "[flaml.automl: 12-11 13:12:15] {3343} INFO -  at 1.2s,\testimator lgbm's best error=0.1746,\tbest estimator lgbm's best error=0.1746\n",
            "INFO:flaml.automl: at 1.2s,\testimator lgbm's best error=0.1746,\tbest estimator lgbm's best error=0.1746\n",
            "[flaml.automl: 12-11 13:12:15] {3166} INFO - iteration 8, current learner lgbm\n",
            "INFO:flaml.automl:iteration 8, current learner lgbm\n",
            "[flaml.automl: 12-11 13:12:15] {3343} INFO -  at 1.5s,\testimator lgbm's best error=0.1708,\tbest estimator lgbm's best error=0.1708\n",
            "INFO:flaml.automl: at 1.5s,\testimator lgbm's best error=0.1708,\tbest estimator lgbm's best error=0.1708\n",
            "[flaml.automl: 12-11 13:12:15] {3166} INFO - iteration 9, current learner lgbm\n",
            "INFO:flaml.automl:iteration 9, current learner lgbm\n",
            "[flaml.automl: 12-11 13:12:15] {3343} INFO -  at 1.6s,\testimator lgbm's best error=0.1708,\tbest estimator lgbm's best error=0.1708\n",
            "INFO:flaml.automl: at 1.6s,\testimator lgbm's best error=0.1708,\tbest estimator lgbm's best error=0.1708\n",
            "[flaml.automl: 12-11 13:12:15] {3166} INFO - iteration 10, current learner lgbm\n",
            "INFO:flaml.automl:iteration 10, current learner lgbm\n",
            "[flaml.automl: 12-11 13:12:16] {3343} INFO -  at 2.4s,\testimator lgbm's best error=0.1671,\tbest estimator lgbm's best error=0.1671\n",
            "INFO:flaml.automl: at 2.4s,\testimator lgbm's best error=0.1671,\tbest estimator lgbm's best error=0.1671\n",
            "[flaml.automl: 12-11 13:12:16] {3166} INFO - iteration 11, current learner lgbm\n",
            "INFO:flaml.automl:iteration 11, current learner lgbm\n",
            "[flaml.automl: 12-11 13:12:17] {3343} INFO -  at 3.4s,\testimator lgbm's best error=0.1671,\tbest estimator lgbm's best error=0.1671\n",
            "INFO:flaml.automl: at 3.4s,\testimator lgbm's best error=0.1671,\tbest estimator lgbm's best error=0.1671\n",
            "[flaml.automl: 12-11 13:12:17] {3166} INFO - iteration 12, current learner lgbm\n",
            "INFO:flaml.automl:iteration 12, current learner lgbm\n",
            "[flaml.automl: 12-11 13:12:17] {3343} INFO -  at 4.1s,\testimator lgbm's best error=0.1671,\tbest estimator lgbm's best error=0.1671\n",
            "INFO:flaml.automl: at 4.1s,\testimator lgbm's best error=0.1671,\tbest estimator lgbm's best error=0.1671\n",
            "[flaml.automl: 12-11 13:12:17] {3166} INFO - iteration 13, current learner lgbm\n",
            "INFO:flaml.automl:iteration 13, current learner lgbm\n",
            "[flaml.automl: 12-11 13:12:18] {3343} INFO -  at 5.0s,\testimator lgbm's best error=0.1671,\tbest estimator lgbm's best error=0.1671\n",
            "INFO:flaml.automl: at 5.0s,\testimator lgbm's best error=0.1671,\tbest estimator lgbm's best error=0.1671\n",
            "[flaml.automl: 12-11 13:12:18] {3166} INFO - iteration 14, current learner lgbm\n",
            "INFO:flaml.automl:iteration 14, current learner lgbm\n",
            "[flaml.automl: 12-11 13:12:19] {3343} INFO -  at 5.8s,\testimator lgbm's best error=0.1671,\tbest estimator lgbm's best error=0.1671\n",
            "INFO:flaml.automl: at 5.8s,\testimator lgbm's best error=0.1671,\tbest estimator lgbm's best error=0.1671\n",
            "[flaml.automl: 12-11 13:12:19] {3166} INFO - iteration 15, current learner lgbm\n",
            "INFO:flaml.automl:iteration 15, current learner lgbm\n",
            "[flaml.automl: 12-11 13:12:20] {3343} INFO -  at 6.8s,\testimator lgbm's best error=0.1671,\tbest estimator lgbm's best error=0.1671\n",
            "INFO:flaml.automl: at 6.8s,\testimator lgbm's best error=0.1671,\tbest estimator lgbm's best error=0.1671\n",
            "[flaml.automl: 12-11 13:12:20] {3166} INFO - iteration 16, current learner lgbm\n",
            "INFO:flaml.automl:iteration 16, current learner lgbm\n",
            "[flaml.automl: 12-11 13:12:21] {3343} INFO -  at 7.5s,\testimator lgbm's best error=0.1671,\tbest estimator lgbm's best error=0.1671\n",
            "INFO:flaml.automl: at 7.5s,\testimator lgbm's best error=0.1671,\tbest estimator lgbm's best error=0.1671\n",
            "[flaml.automl: 12-11 13:12:21] {3166} INFO - iteration 17, current learner lgbm\n",
            "INFO:flaml.automl:iteration 17, current learner lgbm\n",
            "[flaml.automl: 12-11 13:12:22] {3343} INFO -  at 8.5s,\testimator lgbm's best error=0.1658,\tbest estimator lgbm's best error=0.1658\n",
            "INFO:flaml.automl: at 8.5s,\testimator lgbm's best error=0.1658,\tbest estimator lgbm's best error=0.1658\n",
            "[flaml.automl: 12-11 13:12:22] {3166} INFO - iteration 18, current learner lgbm\n",
            "INFO:flaml.automl:iteration 18, current learner lgbm\n",
            "[flaml.automl: 12-11 13:12:23] {3343} INFO -  at 9.3s,\testimator lgbm's best error=0.1658,\tbest estimator lgbm's best error=0.1658\n",
            "INFO:flaml.automl: at 9.3s,\testimator lgbm's best error=0.1658,\tbest estimator lgbm's best error=0.1658\n",
            "[flaml.automl: 12-11 13:12:23] {3166} INFO - iteration 19, current learner lgbm\n",
            "INFO:flaml.automl:iteration 19, current learner lgbm\n",
            "[flaml.automl: 12-11 13:12:23] {3343} INFO -  at 9.8s,\testimator lgbm's best error=0.1658,\tbest estimator lgbm's best error=0.1658\n",
            "INFO:flaml.automl: at 9.8s,\testimator lgbm's best error=0.1658,\tbest estimator lgbm's best error=0.1658\n",
            "[flaml.automl: 12-11 13:12:23] {3166} INFO - iteration 20, current learner lgbm\n",
            "INFO:flaml.automl:iteration 20, current learner lgbm\n",
            "[flaml.automl: 12-11 13:12:26] {3343} INFO -  at 12.5s,\testimator lgbm's best error=0.1658,\tbest estimator lgbm's best error=0.1658\n",
            "INFO:flaml.automl: at 12.5s,\testimator lgbm's best error=0.1658,\tbest estimator lgbm's best error=0.1658\n",
            "[flaml.automl: 12-11 13:12:26] {3166} INFO - iteration 21, current learner lgbm\n",
            "INFO:flaml.automl:iteration 21, current learner lgbm\n",
            "[flaml.automl: 12-11 13:12:28] {3343} INFO -  at 14.5s,\testimator lgbm's best error=0.1658,\tbest estimator lgbm's best error=0.1658\n",
            "INFO:flaml.automl: at 14.5s,\testimator lgbm's best error=0.1658,\tbest estimator lgbm's best error=0.1658\n",
            "[flaml.automl: 12-11 13:12:28] {3166} INFO - iteration 22, current learner lgbm\n",
            "INFO:flaml.automl:iteration 22, current learner lgbm\n",
            "[flaml.automl: 12-11 13:12:28] {3343} INFO -  at 15.2s,\testimator lgbm's best error=0.1658,\tbest estimator lgbm's best error=0.1658\n",
            "INFO:flaml.automl: at 15.2s,\testimator lgbm's best error=0.1658,\tbest estimator lgbm's best error=0.1658\n",
            "[flaml.automl: 12-11 13:12:28] {3166} INFO - iteration 23, current learner lgbm\n",
            "INFO:flaml.automl:iteration 23, current learner lgbm\n",
            "[flaml.automl: 12-11 13:12:29] {3343} INFO -  at 16.2s,\testimator lgbm's best error=0.1658,\tbest estimator lgbm's best error=0.1658\n",
            "INFO:flaml.automl: at 16.2s,\testimator lgbm's best error=0.1658,\tbest estimator lgbm's best error=0.1658\n",
            "[flaml.automl: 12-11 13:12:29] {3166} INFO - iteration 24, current learner lgbm\n",
            "INFO:flaml.automl:iteration 24, current learner lgbm\n",
            "[flaml.automl: 12-11 13:12:31] {3343} INFO -  at 17.4s,\testimator lgbm's best error=0.1658,\tbest estimator lgbm's best error=0.1658\n",
            "INFO:flaml.automl: at 17.4s,\testimator lgbm's best error=0.1658,\tbest estimator lgbm's best error=0.1658\n",
            "[flaml.automl: 12-11 13:12:31] {3166} INFO - iteration 25, current learner lgbm\n",
            "INFO:flaml.automl:iteration 25, current learner lgbm\n",
            "[flaml.automl: 12-11 13:12:34] {3343} INFO -  at 20.4s,\testimator lgbm's best error=0.1658,\tbest estimator lgbm's best error=0.1658\n",
            "INFO:flaml.automl: at 20.4s,\testimator lgbm's best error=0.1658,\tbest estimator lgbm's best error=0.1658\n",
            "[flaml.automl: 12-11 13:12:34] {3166} INFO - iteration 26, current learner lgbm\n",
            "INFO:flaml.automl:iteration 26, current learner lgbm\n",
            "[flaml.automl: 12-11 13:12:34] {3343} INFO -  at 21.1s,\testimator lgbm's best error=0.1658,\tbest estimator lgbm's best error=0.1658\n",
            "INFO:flaml.automl: at 21.1s,\testimator lgbm's best error=0.1658,\tbest estimator lgbm's best error=0.1658\n",
            "[flaml.automl: 12-11 13:12:34] {3166} INFO - iteration 27, current learner lgbm\n",
            "INFO:flaml.automl:iteration 27, current learner lgbm\n",
            "[flaml.automl: 12-11 13:12:37] {3343} INFO -  at 23.8s,\testimator lgbm's best error=0.1658,\tbest estimator lgbm's best error=0.1658\n",
            "INFO:flaml.automl: at 23.8s,\testimator lgbm's best error=0.1658,\tbest estimator lgbm's best error=0.1658\n",
            "[flaml.automl: 12-11 13:12:37] {3166} INFO - iteration 28, current learner lgbm\n",
            "INFO:flaml.automl:iteration 28, current learner lgbm\n",
            "[flaml.automl: 12-11 13:12:38] {3343} INFO -  at 24.3s,\testimator lgbm's best error=0.1658,\tbest estimator lgbm's best error=0.1658\n",
            "INFO:flaml.automl: at 24.3s,\testimator lgbm's best error=0.1658,\tbest estimator lgbm's best error=0.1658\n",
            "[flaml.automl: 12-11 13:12:38] {3166} INFO - iteration 29, current learner lgbm\n",
            "INFO:flaml.automl:iteration 29, current learner lgbm\n",
            "[flaml.automl: 12-11 13:12:38] {3343} INFO -  at 24.8s,\testimator lgbm's best error=0.1658,\tbest estimator lgbm's best error=0.1658\n",
            "INFO:flaml.automl: at 24.8s,\testimator lgbm's best error=0.1658,\tbest estimator lgbm's best error=0.1658\n",
            "[flaml.automl: 12-11 13:12:38] {3166} INFO - iteration 30, current learner lgbm\n",
            "INFO:flaml.automl:iteration 30, current learner lgbm\n",
            "[flaml.automl: 12-11 13:12:44] {3343} INFO -  at 31.2s,\testimator lgbm's best error=0.1658,\tbest estimator lgbm's best error=0.1658\n",
            "INFO:flaml.automl: at 31.2s,\testimator lgbm's best error=0.1658,\tbest estimator lgbm's best error=0.1658\n",
            "[flaml.automl: 12-11 13:12:44] {3166} INFO - iteration 31, current learner lgbm\n",
            "INFO:flaml.automl:iteration 31, current learner lgbm\n",
            "[flaml.automl: 12-11 13:12:46] {3343} INFO -  at 32.9s,\testimator lgbm's best error=0.1658,\tbest estimator lgbm's best error=0.1658\n",
            "INFO:flaml.automl: at 32.9s,\testimator lgbm's best error=0.1658,\tbest estimator lgbm's best error=0.1658\n",
            "[flaml.automl: 12-11 13:12:46] {3166} INFO - iteration 32, current learner lgbm\n",
            "INFO:flaml.automl:iteration 32, current learner lgbm\n",
            "[flaml.automl: 12-11 13:12:58] {3343} INFO -  at 44.3s,\testimator lgbm's best error=0.1656,\tbest estimator lgbm's best error=0.1656\n",
            "INFO:flaml.automl: at 44.3s,\testimator lgbm's best error=0.1656,\tbest estimator lgbm's best error=0.1656\n",
            "[flaml.automl: 12-11 13:12:58] {3166} INFO - iteration 33, current learner lgbm\n",
            "INFO:flaml.automl:iteration 33, current learner lgbm\n",
            "[flaml.automl: 12-11 13:12:59] {3343} INFO -  at 45.8s,\testimator lgbm's best error=0.1656,\tbest estimator lgbm's best error=0.1656\n",
            "INFO:flaml.automl: at 45.8s,\testimator lgbm's best error=0.1656,\tbest estimator lgbm's best error=0.1656\n",
            "[flaml.automl: 12-11 13:12:59] {3166} INFO - iteration 34, current learner lgbm\n",
            "INFO:flaml.automl:iteration 34, current learner lgbm\n",
            "[flaml.automl: 12-11 13:13:01] {3343} INFO -  at 47.8s,\testimator lgbm's best error=0.1656,\tbest estimator lgbm's best error=0.1656\n",
            "INFO:flaml.automl: at 47.8s,\testimator lgbm's best error=0.1656,\tbest estimator lgbm's best error=0.1656\n",
            "[flaml.automl: 12-11 13:13:01] {3166} INFO - iteration 35, current learner lgbm\n",
            "INFO:flaml.automl:iteration 35, current learner lgbm\n",
            "[flaml.automl: 12-11 13:13:11] {3343} INFO -  at 58.1s,\testimator lgbm's best error=0.1656,\tbest estimator lgbm's best error=0.1656\n",
            "INFO:flaml.automl: at 58.1s,\testimator lgbm's best error=0.1656,\tbest estimator lgbm's best error=0.1656\n",
            "[flaml.automl: 12-11 13:13:11] {3166} INFO - iteration 36, current learner lgbm\n",
            "INFO:flaml.automl:iteration 36, current learner lgbm\n",
            "[flaml.automl: 12-11 13:13:12] {3343} INFO -  at 58.5s,\testimator lgbm's best error=0.1656,\tbest estimator lgbm's best error=0.1656\n",
            "INFO:flaml.automl: at 58.5s,\testimator lgbm's best error=0.1656,\tbest estimator lgbm's best error=0.1656\n",
            "[flaml.automl: 12-11 13:13:12] {3166} INFO - iteration 37, current learner lgbm\n",
            "INFO:flaml.automl:iteration 37, current learner lgbm\n",
            "[flaml.automl: 12-11 13:13:17] {3343} INFO -  at 63.2s,\testimator lgbm's best error=0.1656,\tbest estimator lgbm's best error=0.1656\n",
            "INFO:flaml.automl: at 63.2s,\testimator lgbm's best error=0.1656,\tbest estimator lgbm's best error=0.1656\n",
            "[flaml.automl: 12-11 13:13:17] {3166} INFO - iteration 38, current learner lgbm\n",
            "INFO:flaml.automl:iteration 38, current learner lgbm\n",
            "[flaml.automl: 12-11 13:13:17] {3343} INFO -  at 64.1s,\testimator lgbm's best error=0.1656,\tbest estimator lgbm's best error=0.1656\n",
            "INFO:flaml.automl: at 64.1s,\testimator lgbm's best error=0.1656,\tbest estimator lgbm's best error=0.1656\n",
            "[flaml.automl: 12-11 13:13:17] {3166} INFO - iteration 39, current learner lgbm\n",
            "INFO:flaml.automl:iteration 39, current learner lgbm\n",
            "[flaml.automl: 12-11 13:13:44] {3343} INFO -  at 91.1s,\testimator lgbm's best error=0.1656,\tbest estimator lgbm's best error=0.1656\n",
            "INFO:flaml.automl: at 91.1s,\testimator lgbm's best error=0.1656,\tbest estimator lgbm's best error=0.1656\n",
            "[flaml.automl: 12-11 13:13:44] {3166} INFO - iteration 40, current learner lgbm\n",
            "INFO:flaml.automl:iteration 40, current learner lgbm\n",
            "[flaml.automl: 12-11 13:13:45] {3343} INFO -  at 91.6s,\testimator lgbm's best error=0.1656,\tbest estimator lgbm's best error=0.1656\n",
            "INFO:flaml.automl: at 91.6s,\testimator lgbm's best error=0.1656,\tbest estimator lgbm's best error=0.1656\n",
            "[flaml.automl: 12-11 13:13:45] {3166} INFO - iteration 41, current learner lgbm\n",
            "INFO:flaml.automl:iteration 41, current learner lgbm\n",
            "[flaml.automl: 12-11 13:13:45] {3343} INFO -  at 92.0s,\testimator lgbm's best error=0.1656,\tbest estimator lgbm's best error=0.1656\n",
            "INFO:flaml.automl: at 92.0s,\testimator lgbm's best error=0.1656,\tbest estimator lgbm's best error=0.1656\n",
            "[flaml.automl: 12-11 13:13:45] {3166} INFO - iteration 42, current learner lgbm\n",
            "INFO:flaml.automl:iteration 42, current learner lgbm\n",
            "[flaml.automl: 12-11 13:14:04] {3343} INFO -  at 111.0s,\testimator lgbm's best error=0.1656,\tbest estimator lgbm's best error=0.1656\n",
            "INFO:flaml.automl: at 111.0s,\testimator lgbm's best error=0.1656,\tbest estimator lgbm's best error=0.1656\n",
            "[flaml.automl: 12-11 13:14:04] {3166} INFO - iteration 43, current learner lgbm\n",
            "INFO:flaml.automl:iteration 43, current learner lgbm\n",
            "[flaml.automl: 12-11 13:14:15] {3343} INFO -  at 121.4s,\testimator lgbm's best error=0.1656,\tbest estimator lgbm's best error=0.1656\n",
            "INFO:flaml.automl: at 121.4s,\testimator lgbm's best error=0.1656,\tbest estimator lgbm's best error=0.1656\n",
            "[flaml.automl: 12-11 13:14:15] {3166} INFO - iteration 44, current learner lgbm\n",
            "INFO:flaml.automl:iteration 44, current learner lgbm\n",
            "[flaml.automl: 12-11 13:14:17] {3343} INFO -  at 123.7s,\testimator lgbm's best error=0.1656,\tbest estimator lgbm's best error=0.1656\n",
            "INFO:flaml.automl: at 123.7s,\testimator lgbm's best error=0.1656,\tbest estimator lgbm's best error=0.1656\n",
            "[flaml.automl: 12-11 13:14:17] {3166} INFO - iteration 45, current learner lgbm\n",
            "INFO:flaml.automl:iteration 45, current learner lgbm\n",
            "[flaml.automl: 12-11 13:14:18] {3343} INFO -  at 124.5s,\testimator lgbm's best error=0.1656,\tbest estimator lgbm's best error=0.1656\n",
            "INFO:flaml.automl: at 124.5s,\testimator lgbm's best error=0.1656,\tbest estimator lgbm's best error=0.1656\n",
            "[flaml.automl: 12-11 13:14:18] {3166} INFO - iteration 46, current learner lgbm\n",
            "INFO:flaml.automl:iteration 46, current learner lgbm\n",
            "[flaml.automl: 12-11 13:14:37] {3343} INFO -  at 143.7s,\testimator lgbm's best error=0.1656,\tbest estimator lgbm's best error=0.1656\n",
            "INFO:flaml.automl: at 143.7s,\testimator lgbm's best error=0.1656,\tbest estimator lgbm's best error=0.1656\n",
            "[flaml.automl: 12-11 13:14:37] {3166} INFO - iteration 47, current learner lgbm\n",
            "INFO:flaml.automl:iteration 47, current learner lgbm\n",
            "[flaml.automl: 12-11 13:14:37] {3343} INFO -  at 144.0s,\testimator lgbm's best error=0.1656,\tbest estimator lgbm's best error=0.1656\n",
            "INFO:flaml.automl: at 144.0s,\testimator lgbm's best error=0.1656,\tbest estimator lgbm's best error=0.1656\n",
            "[flaml.automl: 12-11 13:14:37] {3166} INFO - iteration 48, current learner lgbm\n",
            "INFO:flaml.automl:iteration 48, current learner lgbm\n",
            "[flaml.automl: 12-11 13:14:59] {3343} INFO -  at 165.8s,\testimator lgbm's best error=0.1656,\tbest estimator lgbm's best error=0.1656\n",
            "INFO:flaml.automl: at 165.8s,\testimator lgbm's best error=0.1656,\tbest estimator lgbm's best error=0.1656\n",
            "[flaml.automl: 12-11 13:14:59] {3166} INFO - iteration 49, current learner lgbm\n",
            "INFO:flaml.automl:iteration 49, current learner lgbm\n",
            "[flaml.automl: 12-11 13:15:00] {3343} INFO -  at 166.5s,\testimator lgbm's best error=0.1656,\tbest estimator lgbm's best error=0.1656\n",
            "INFO:flaml.automl: at 166.5s,\testimator lgbm's best error=0.1656,\tbest estimator lgbm's best error=0.1656\n",
            "[flaml.automl: 12-11 13:15:00] {3166} INFO - iteration 50, current learner lgbm\n",
            "INFO:flaml.automl:iteration 50, current learner lgbm\n",
            "[flaml.automl: 12-11 13:15:47] {3343} INFO -  at 213.8s,\testimator lgbm's best error=0.1656,\tbest estimator lgbm's best error=0.1656\n",
            "INFO:flaml.automl: at 213.8s,\testimator lgbm's best error=0.1656,\tbest estimator lgbm's best error=0.1656\n",
            "[flaml.automl: 12-11 13:15:47] {3166} INFO - iteration 51, current learner lgbm\n",
            "INFO:flaml.automl:iteration 51, current learner lgbm\n",
            "[flaml.automl: 12-11 13:16:04] {3343} INFO -  at 230.9s,\testimator lgbm's best error=0.1656,\tbest estimator lgbm's best error=0.1656\n",
            "INFO:flaml.automl: at 230.9s,\testimator lgbm's best error=0.1656,\tbest estimator lgbm's best error=0.1656\n",
            "[flaml.automl: 12-11 13:16:04] {3166} INFO - iteration 52, current learner lgbm\n",
            "INFO:flaml.automl:iteration 52, current learner lgbm\n",
            "[flaml.automl: 12-11 13:16:05] {3343} INFO -  at 231.9s,\testimator lgbm's best error=0.1656,\tbest estimator lgbm's best error=0.1656\n",
            "INFO:flaml.automl: at 231.9s,\testimator lgbm's best error=0.1656,\tbest estimator lgbm's best error=0.1656\n",
            "[flaml.automl: 12-11 13:16:05] {3166} INFO - iteration 53, current learner lgbm\n",
            "INFO:flaml.automl:iteration 53, current learner lgbm\n",
            "[flaml.automl: 12-11 13:16:20] {3343} INFO -  at 246.9s,\testimator lgbm's best error=0.1656,\tbest estimator lgbm's best error=0.1656\n",
            "INFO:flaml.automl: at 246.9s,\testimator lgbm's best error=0.1656,\tbest estimator lgbm's best error=0.1656\n",
            "[flaml.automl: 12-11 13:16:20] {3166} INFO - iteration 54, current learner lgbm\n",
            "INFO:flaml.automl:iteration 54, current learner lgbm\n",
            "[flaml.automl: 12-11 13:16:21] {3343} INFO -  at 247.4s,\testimator lgbm's best error=0.1656,\tbest estimator lgbm's best error=0.1656\n",
            "INFO:flaml.automl: at 247.4s,\testimator lgbm's best error=0.1656,\tbest estimator lgbm's best error=0.1656\n",
            "[flaml.automl: 12-11 13:16:21] {3166} INFO - iteration 55, current learner lgbm\n",
            "INFO:flaml.automl:iteration 55, current learner lgbm\n",
            "[flaml.automl: 12-11 13:16:24] {3343} INFO -  at 250.6s,\testimator lgbm's best error=0.1656,\tbest estimator lgbm's best error=0.1656\n",
            "INFO:flaml.automl: at 250.6s,\testimator lgbm's best error=0.1656,\tbest estimator lgbm's best error=0.1656\n",
            "[flaml.automl: 12-11 13:16:24] {3166} INFO - iteration 56, current learner lgbm\n",
            "INFO:flaml.automl:iteration 56, current learner lgbm\n",
            "[flaml.automl: 12-11 13:16:26] {3343} INFO -  at 252.8s,\testimator lgbm's best error=0.1656,\tbest estimator lgbm's best error=0.1656\n",
            "INFO:flaml.automl: at 252.8s,\testimator lgbm's best error=0.1656,\tbest estimator lgbm's best error=0.1656\n",
            "[flaml.automl: 12-11 13:16:26] {3166} INFO - iteration 57, current learner lgbm\n",
            "INFO:flaml.automl:iteration 57, current learner lgbm\n",
            "[flaml.automl: 12-11 13:16:28] {3343} INFO -  at 254.8s,\testimator lgbm's best error=0.1656,\tbest estimator lgbm's best error=0.1656\n",
            "INFO:flaml.automl: at 254.8s,\testimator lgbm's best error=0.1656,\tbest estimator lgbm's best error=0.1656\n",
            "[flaml.automl: 12-11 13:16:28] {3166} INFO - iteration 58, current learner lgbm\n",
            "INFO:flaml.automl:iteration 58, current learner lgbm\n",
            "[flaml.automl: 12-11 13:16:30] {3343} INFO -  at 256.9s,\testimator lgbm's best error=0.1656,\tbest estimator lgbm's best error=0.1656\n",
            "INFO:flaml.automl: at 256.9s,\testimator lgbm's best error=0.1656,\tbest estimator lgbm's best error=0.1656\n",
            "[flaml.automl: 12-11 13:16:30] {3166} INFO - iteration 59, current learner lgbm\n",
            "INFO:flaml.automl:iteration 59, current learner lgbm\n",
            "[flaml.automl: 12-11 13:16:31] {3343} INFO -  at 257.6s,\testimator lgbm's best error=0.1656,\tbest estimator lgbm's best error=0.1656\n",
            "INFO:flaml.automl: at 257.6s,\testimator lgbm's best error=0.1656,\tbest estimator lgbm's best error=0.1656\n",
            "[flaml.automl: 12-11 13:16:31] {3166} INFO - iteration 60, current learner lgbm\n",
            "INFO:flaml.automl:iteration 60, current learner lgbm\n",
            "[flaml.automl: 12-11 13:16:39] {3343} INFO -  at 266.0s,\testimator lgbm's best error=0.1656,\tbest estimator lgbm's best error=0.1656\n",
            "INFO:flaml.automl: at 266.0s,\testimator lgbm's best error=0.1656,\tbest estimator lgbm's best error=0.1656\n",
            "[flaml.automl: 12-11 13:16:39] {3166} INFO - iteration 61, current learner lgbm\n",
            "INFO:flaml.automl:iteration 61, current learner lgbm\n",
            "[flaml.automl: 12-11 13:16:53] {3343} INFO -  at 279.6s,\testimator lgbm's best error=0.1656,\tbest estimator lgbm's best error=0.1656\n",
            "INFO:flaml.automl: at 279.6s,\testimator lgbm's best error=0.1656,\tbest estimator lgbm's best error=0.1656\n",
            "[flaml.automl: 12-11 13:16:53] {3166} INFO - iteration 62, current learner lgbm\n",
            "INFO:flaml.automl:iteration 62, current learner lgbm\n",
            "[flaml.automl: 12-11 13:16:53] {3343} INFO -  at 280.1s,\testimator lgbm's best error=0.1656,\tbest estimator lgbm's best error=0.1656\n",
            "INFO:flaml.automl: at 280.1s,\testimator lgbm's best error=0.1656,\tbest estimator lgbm's best error=0.1656\n",
            "[flaml.automl: 12-11 13:16:53] {3166} INFO - iteration 63, current learner lgbm\n",
            "INFO:flaml.automl:iteration 63, current learner lgbm\n",
            "[flaml.automl: 12-11 13:17:06] {3343} INFO -  at 293.1s,\testimator lgbm's best error=0.1656,\tbest estimator lgbm's best error=0.1656\n",
            "INFO:flaml.automl: at 293.1s,\testimator lgbm's best error=0.1656,\tbest estimator lgbm's best error=0.1656\n",
            "[flaml.automl: 12-11 13:17:06] {3166} INFO - iteration 64, current learner lgbm\n",
            "INFO:flaml.automl:iteration 64, current learner lgbm\n",
            "[flaml.automl: 12-11 13:17:07] {3343} INFO -  at 294.1s,\testimator lgbm's best error=0.1656,\tbest estimator lgbm's best error=0.1656\n",
            "INFO:flaml.automl: at 294.1s,\testimator lgbm's best error=0.1656,\tbest estimator lgbm's best error=0.1656\n",
            "[flaml.automl: 12-11 13:17:07] {3166} INFO - iteration 65, current learner lgbm\n",
            "INFO:flaml.automl:iteration 65, current learner lgbm\n",
            "[flaml.automl: 12-11 13:17:09] {3343} INFO -  at 296.1s,\testimator lgbm's best error=0.1656,\tbest estimator lgbm's best error=0.1656\n",
            "INFO:flaml.automl: at 296.1s,\testimator lgbm's best error=0.1656,\tbest estimator lgbm's best error=0.1656\n",
            "[flaml.automl: 12-11 13:17:09] {3166} INFO - iteration 66, current learner lgbm\n",
            "INFO:flaml.automl:iteration 66, current learner lgbm\n",
            "[flaml.automl: 12-11 13:17:12] {3343} INFO -  at 299.2s,\testimator lgbm's best error=0.1656,\tbest estimator lgbm's best error=0.1656\n",
            "INFO:flaml.automl: at 299.2s,\testimator lgbm's best error=0.1656,\tbest estimator lgbm's best error=0.1656\n",
            "[flaml.automl: 12-11 13:17:12] {3166} INFO - iteration 67, current learner lgbm\n",
            "INFO:flaml.automl:iteration 67, current learner lgbm\n",
            "[flaml.automl: 12-11 13:17:14] {3343} INFO -  at 300.5s,\testimator lgbm's best error=0.1656,\tbest estimator lgbm's best error=0.1656\n",
            "INFO:flaml.automl: at 300.5s,\testimator lgbm's best error=0.1656,\tbest estimator lgbm's best error=0.1656\n",
            "[flaml.automl: 12-11 13:17:14] {3166} INFO - iteration 68, current learner lgbm\n",
            "INFO:flaml.automl:iteration 68, current learner lgbm\n",
            "[flaml.automl: 12-11 13:17:18] {3343} INFO -  at 305.1s,\testimator lgbm's best error=0.1656,\tbest estimator lgbm's best error=0.1656\n",
            "INFO:flaml.automl: at 305.1s,\testimator lgbm's best error=0.1656,\tbest estimator lgbm's best error=0.1656\n",
            "[flaml.automl: 12-11 13:17:18] {3166} INFO - iteration 69, current learner lgbm\n",
            "INFO:flaml.automl:iteration 69, current learner lgbm\n",
            "[flaml.automl: 12-11 13:17:32] {3343} INFO -  at 319.0s,\testimator lgbm's best error=0.1656,\tbest estimator lgbm's best error=0.1656\n",
            "INFO:flaml.automl: at 319.0s,\testimator lgbm's best error=0.1656,\tbest estimator lgbm's best error=0.1656\n",
            "[flaml.automl: 12-11 13:17:32] {3166} INFO - iteration 70, current learner lgbm\n",
            "INFO:flaml.automl:iteration 70, current learner lgbm\n",
            "[flaml.automl: 12-11 13:17:34] {3343} INFO -  at 320.5s,\testimator lgbm's best error=0.1656,\tbest estimator lgbm's best error=0.1656\n",
            "INFO:flaml.automl: at 320.5s,\testimator lgbm's best error=0.1656,\tbest estimator lgbm's best error=0.1656\n",
            "[flaml.automl: 12-11 13:17:34] {3166} INFO - iteration 71, current learner lgbm\n",
            "INFO:flaml.automl:iteration 71, current learner lgbm\n",
            "[flaml.automl: 12-11 13:17:37] {3343} INFO -  at 323.8s,\testimator lgbm's best error=0.1656,\tbest estimator lgbm's best error=0.1656\n",
            "INFO:flaml.automl: at 323.8s,\testimator lgbm's best error=0.1656,\tbest estimator lgbm's best error=0.1656\n",
            "[flaml.automl: 12-11 13:17:37] {3166} INFO - iteration 72, current learner lgbm\n",
            "INFO:flaml.automl:iteration 72, current learner lgbm\n",
            "[flaml.automl: 12-11 13:17:39] {3343} INFO -  at 325.3s,\testimator lgbm's best error=0.1656,\tbest estimator lgbm's best error=0.1656\n",
            "INFO:flaml.automl: at 325.3s,\testimator lgbm's best error=0.1656,\tbest estimator lgbm's best error=0.1656\n",
            "[flaml.automl: 12-11 13:17:39] {3166} INFO - iteration 73, current learner lgbm\n",
            "INFO:flaml.automl:iteration 73, current learner lgbm\n",
            "[flaml.automl: 12-11 13:17:39] {3343} INFO -  at 325.8s,\testimator lgbm's best error=0.1656,\tbest estimator lgbm's best error=0.1656\n",
            "INFO:flaml.automl: at 325.8s,\testimator lgbm's best error=0.1656,\tbest estimator lgbm's best error=0.1656\n",
            "[flaml.automl: 12-11 13:17:39] {3166} INFO - iteration 74, current learner lgbm\n",
            "INFO:flaml.automl:iteration 74, current learner lgbm\n",
            "[flaml.automl: 12-11 13:17:52] {3343} INFO -  at 338.4s,\testimator lgbm's best error=0.1656,\tbest estimator lgbm's best error=0.1656\n",
            "INFO:flaml.automl: at 338.4s,\testimator lgbm's best error=0.1656,\tbest estimator lgbm's best error=0.1656\n",
            "[flaml.automl: 12-11 13:17:52] {3166} INFO - iteration 75, current learner lgbm\n",
            "INFO:flaml.automl:iteration 75, current learner lgbm\n",
            "[flaml.automl: 12-11 13:17:57] {3343} INFO -  at 344.1s,\testimator lgbm's best error=0.1656,\tbest estimator lgbm's best error=0.1656\n",
            "INFO:flaml.automl: at 344.1s,\testimator lgbm's best error=0.1656,\tbest estimator lgbm's best error=0.1656\n",
            "[flaml.automl: 12-11 13:17:57] {3166} INFO - iteration 76, current learner lgbm\n",
            "INFO:flaml.automl:iteration 76, current learner lgbm\n",
            "[flaml.automl: 12-11 13:17:58] {3343} INFO -  at 344.9s,\testimator lgbm's best error=0.1656,\tbest estimator lgbm's best error=0.1656\n",
            "INFO:flaml.automl: at 344.9s,\testimator lgbm's best error=0.1656,\tbest estimator lgbm's best error=0.1656\n",
            "[flaml.automl: 12-11 13:17:58] {3166} INFO - iteration 77, current learner lgbm\n",
            "INFO:flaml.automl:iteration 77, current learner lgbm\n",
            "[flaml.automl: 12-11 13:17:59] {3343} INFO -  at 345.3s,\testimator lgbm's best error=0.1656,\tbest estimator lgbm's best error=0.1656\n",
            "INFO:flaml.automl: at 345.3s,\testimator lgbm's best error=0.1656,\tbest estimator lgbm's best error=0.1656\n",
            "[flaml.automl: 12-11 13:17:59] {3166} INFO - iteration 78, current learner lgbm\n",
            "INFO:flaml.automl:iteration 78, current learner lgbm\n",
            "[flaml.automl: 12-11 13:18:15] {3343} INFO -  at 361.7s,\testimator lgbm's best error=0.1656,\tbest estimator lgbm's best error=0.1656\n",
            "INFO:flaml.automl: at 361.7s,\testimator lgbm's best error=0.1656,\tbest estimator lgbm's best error=0.1656\n",
            "[flaml.automl: 12-11 13:18:15] {3166} INFO - iteration 79, current learner lgbm\n",
            "INFO:flaml.automl:iteration 79, current learner lgbm\n",
            "[flaml.automl: 12-11 13:18:23] {3343} INFO -  at 369.3s,\testimator lgbm's best error=0.1656,\tbest estimator lgbm's best error=0.1656\n",
            "INFO:flaml.automl: at 369.3s,\testimator lgbm's best error=0.1656,\tbest estimator lgbm's best error=0.1656\n",
            "[flaml.automl: 12-11 13:18:23] {3166} INFO - iteration 80, current learner lgbm\n",
            "INFO:flaml.automl:iteration 80, current learner lgbm\n",
            "[flaml.automl: 12-11 13:18:23] {3343} INFO -  at 370.1s,\testimator lgbm's best error=0.1656,\tbest estimator lgbm's best error=0.1656\n",
            "INFO:flaml.automl: at 370.1s,\testimator lgbm's best error=0.1656,\tbest estimator lgbm's best error=0.1656\n",
            "[flaml.automl: 12-11 13:18:23] {3166} INFO - iteration 81, current learner lgbm\n",
            "INFO:flaml.automl:iteration 81, current learner lgbm\n",
            "[flaml.automl: 12-11 13:18:38] {3343} INFO -  at 385.2s,\testimator lgbm's best error=0.1656,\tbest estimator lgbm's best error=0.1656\n",
            "INFO:flaml.automl: at 385.2s,\testimator lgbm's best error=0.1656,\tbest estimator lgbm's best error=0.1656\n",
            "[flaml.automl: 12-11 13:18:38] {3166} INFO - iteration 82, current learner lgbm\n",
            "INFO:flaml.automl:iteration 82, current learner lgbm\n",
            "[flaml.automl: 12-11 13:18:39] {3343} INFO -  at 385.6s,\testimator lgbm's best error=0.1656,\tbest estimator lgbm's best error=0.1656\n",
            "INFO:flaml.automl: at 385.6s,\testimator lgbm's best error=0.1656,\tbest estimator lgbm's best error=0.1656\n",
            "[flaml.automl: 12-11 13:18:39] {3166} INFO - iteration 83, current learner lgbm\n",
            "INFO:flaml.automl:iteration 83, current learner lgbm\n",
            "[flaml.automl: 12-11 13:18:41] {3343} INFO -  at 388.0s,\testimator lgbm's best error=0.1656,\tbest estimator lgbm's best error=0.1656\n",
            "INFO:flaml.automl: at 388.0s,\testimator lgbm's best error=0.1656,\tbest estimator lgbm's best error=0.1656\n",
            "[flaml.automl: 12-11 13:18:41] {3166} INFO - iteration 84, current learner lgbm\n",
            "INFO:flaml.automl:iteration 84, current learner lgbm\n",
            "[flaml.automl: 12-11 13:18:44] {3343} INFO -  at 390.2s,\testimator lgbm's best error=0.1656,\tbest estimator lgbm's best error=0.1656\n",
            "INFO:flaml.automl: at 390.2s,\testimator lgbm's best error=0.1656,\tbest estimator lgbm's best error=0.1656\n",
            "[flaml.automl: 12-11 13:18:44] {3166} INFO - iteration 85, current learner lgbm\n",
            "INFO:flaml.automl:iteration 85, current learner lgbm\n",
            "[flaml.automl: 12-11 13:18:44] {3343} INFO -  at 391.1s,\testimator lgbm's best error=0.1656,\tbest estimator lgbm's best error=0.1656\n",
            "INFO:flaml.automl: at 391.1s,\testimator lgbm's best error=0.1656,\tbest estimator lgbm's best error=0.1656\n",
            "[flaml.automl: 12-11 13:18:44] {3166} INFO - iteration 86, current learner lgbm\n",
            "INFO:flaml.automl:iteration 86, current learner lgbm\n",
            "[flaml.automl: 12-11 13:18:52] {3343} INFO -  at 398.8s,\testimator lgbm's best error=0.1656,\tbest estimator lgbm's best error=0.1656\n",
            "INFO:flaml.automl: at 398.8s,\testimator lgbm's best error=0.1656,\tbest estimator lgbm's best error=0.1656\n",
            "[flaml.automl: 12-11 13:18:52] {3166} INFO - iteration 87, current learner lgbm\n",
            "INFO:flaml.automl:iteration 87, current learner lgbm\n",
            "[flaml.automl: 12-11 13:18:55] {3343} INFO -  at 402.1s,\testimator lgbm's best error=0.1656,\tbest estimator lgbm's best error=0.1656\n",
            "INFO:flaml.automl: at 402.1s,\testimator lgbm's best error=0.1656,\tbest estimator lgbm's best error=0.1656\n",
            "[flaml.automl: 12-11 13:18:55] {3166} INFO - iteration 88, current learner lgbm\n",
            "INFO:flaml.automl:iteration 88, current learner lgbm\n",
            "[flaml.automl: 12-11 13:18:57] {3343} INFO -  at 403.5s,\testimator lgbm's best error=0.1656,\tbest estimator lgbm's best error=0.1656\n",
            "INFO:flaml.automl: at 403.5s,\testimator lgbm's best error=0.1656,\tbest estimator lgbm's best error=0.1656\n",
            "[flaml.automl: 12-11 13:18:57] {3166} INFO - iteration 89, current learner lgbm\n",
            "INFO:flaml.automl:iteration 89, current learner lgbm\n",
            "[flaml.automl: 12-11 13:18:58] {3343} INFO -  at 404.7s,\testimator lgbm's best error=0.1656,\tbest estimator lgbm's best error=0.1656\n",
            "INFO:flaml.automl: at 404.7s,\testimator lgbm's best error=0.1656,\tbest estimator lgbm's best error=0.1656\n",
            "[flaml.automl: 12-11 13:18:58] {3166} INFO - iteration 90, current learner lgbm\n",
            "INFO:flaml.automl:iteration 90, current learner lgbm\n",
            "[flaml.automl: 12-11 13:19:01] {3343} INFO -  at 407.9s,\testimator lgbm's best error=0.1656,\tbest estimator lgbm's best error=0.1656\n",
            "INFO:flaml.automl: at 407.9s,\testimator lgbm's best error=0.1656,\tbest estimator lgbm's best error=0.1656\n",
            "[flaml.automl: 12-11 13:19:01] {3166} INFO - iteration 91, current learner lgbm\n",
            "INFO:flaml.automl:iteration 91, current learner lgbm\n",
            "[flaml.automl: 12-11 13:19:03] {3343} INFO -  at 409.3s,\testimator lgbm's best error=0.1656,\tbest estimator lgbm's best error=0.1656\n",
            "INFO:flaml.automl: at 409.3s,\testimator lgbm's best error=0.1656,\tbest estimator lgbm's best error=0.1656\n",
            "[flaml.automl: 12-11 13:19:03] {3166} INFO - iteration 92, current learner lgbm\n",
            "INFO:flaml.automl:iteration 92, current learner lgbm\n",
            "[flaml.automl: 12-11 13:19:06] {3343} INFO -  at 413.1s,\testimator lgbm's best error=0.1656,\tbest estimator lgbm's best error=0.1656\n",
            "INFO:flaml.automl: at 413.1s,\testimator lgbm's best error=0.1656,\tbest estimator lgbm's best error=0.1656\n",
            "[flaml.automl: 12-11 13:19:06] {3166} INFO - iteration 93, current learner lgbm\n",
            "INFO:flaml.automl:iteration 93, current learner lgbm\n",
            "[flaml.automl: 12-11 13:19:07] {3343} INFO -  at 413.6s,\testimator lgbm's best error=0.1656,\tbest estimator lgbm's best error=0.1656\n",
            "INFO:flaml.automl: at 413.6s,\testimator lgbm's best error=0.1656,\tbest estimator lgbm's best error=0.1656\n",
            "[flaml.automl: 12-11 13:19:07] {3166} INFO - iteration 94, current learner lgbm\n",
            "INFO:flaml.automl:iteration 94, current learner lgbm\n",
            "[flaml.automl: 12-11 13:19:14] {3343} INFO -  at 420.4s,\testimator lgbm's best error=0.1656,\tbest estimator lgbm's best error=0.1656\n",
            "INFO:flaml.automl: at 420.4s,\testimator lgbm's best error=0.1656,\tbest estimator lgbm's best error=0.1656\n",
            "[flaml.automl: 12-11 13:19:14] {3166} INFO - iteration 95, current learner lgbm\n",
            "INFO:flaml.automl:iteration 95, current learner lgbm\n",
            "[flaml.automl: 12-11 13:19:19] {3343} INFO -  at 425.9s,\testimator lgbm's best error=0.1656,\tbest estimator lgbm's best error=0.1656\n",
            "INFO:flaml.automl: at 425.9s,\testimator lgbm's best error=0.1656,\tbest estimator lgbm's best error=0.1656\n",
            "[flaml.automl: 12-11 13:19:19] {3166} INFO - iteration 96, current learner lgbm\n",
            "INFO:flaml.automl:iteration 96, current learner lgbm\n",
            "[flaml.automl: 12-11 13:19:21] {3343} INFO -  at 427.8s,\testimator lgbm's best error=0.1656,\tbest estimator lgbm's best error=0.1656\n",
            "INFO:flaml.automl: at 427.8s,\testimator lgbm's best error=0.1656,\tbest estimator lgbm's best error=0.1656\n",
            "[flaml.automl: 12-11 13:19:21] {3166} INFO - iteration 97, current learner lgbm\n",
            "INFO:flaml.automl:iteration 97, current learner lgbm\n",
            "[flaml.automl: 12-11 13:19:23] {3343} INFO -  at 429.6s,\testimator lgbm's best error=0.1656,\tbest estimator lgbm's best error=0.1656\n",
            "INFO:flaml.automl: at 429.6s,\testimator lgbm's best error=0.1656,\tbest estimator lgbm's best error=0.1656\n",
            "[flaml.automl: 12-11 13:19:23] {3166} INFO - iteration 98, current learner lgbm\n",
            "INFO:flaml.automl:iteration 98, current learner lgbm\n",
            "[flaml.automl: 12-11 13:19:26] {3343} INFO -  at 432.5s,\testimator lgbm's best error=0.1655,\tbest estimator lgbm's best error=0.1655\n",
            "INFO:flaml.automl: at 432.5s,\testimator lgbm's best error=0.1655,\tbest estimator lgbm's best error=0.1655\n",
            "[flaml.automl: 12-11 13:19:26] {3166} INFO - iteration 99, current learner lgbm\n",
            "INFO:flaml.automl:iteration 99, current learner lgbm\n",
            "[flaml.automl: 12-11 13:19:28] {3343} INFO -  at 434.9s,\testimator lgbm's best error=0.1655,\tbest estimator lgbm's best error=0.1655\n",
            "INFO:flaml.automl: at 434.9s,\testimator lgbm's best error=0.1655,\tbest estimator lgbm's best error=0.1655\n",
            "[flaml.automl: 12-11 13:19:28] {3166} INFO - iteration 100, current learner lgbm\n",
            "INFO:flaml.automl:iteration 100, current learner lgbm\n",
            "[flaml.automl: 12-11 13:19:31] {3343} INFO -  at 437.8s,\testimator lgbm's best error=0.1654,\tbest estimator lgbm's best error=0.1654\n",
            "INFO:flaml.automl: at 437.8s,\testimator lgbm's best error=0.1654,\tbest estimator lgbm's best error=0.1654\n",
            "[flaml.automl: 12-11 13:19:31] {3166} INFO - iteration 101, current learner lgbm\n",
            "INFO:flaml.automl:iteration 101, current learner lgbm\n",
            "[flaml.automl: 12-11 13:19:39] {3343} INFO -  at 445.2s,\testimator lgbm's best error=0.1654,\tbest estimator lgbm's best error=0.1654\n",
            "INFO:flaml.automl: at 445.2s,\testimator lgbm's best error=0.1654,\tbest estimator lgbm's best error=0.1654\n",
            "[flaml.automl: 12-11 13:19:39] {3166} INFO - iteration 102, current learner lgbm\n",
            "INFO:flaml.automl:iteration 102, current learner lgbm\n",
            "[flaml.automl: 12-11 13:19:40] {3343} INFO -  at 446.3s,\testimator lgbm's best error=0.1654,\tbest estimator lgbm's best error=0.1654\n",
            "INFO:flaml.automl: at 446.3s,\testimator lgbm's best error=0.1654,\tbest estimator lgbm's best error=0.1654\n",
            "[flaml.automl: 12-11 13:19:40] {3166} INFO - iteration 103, current learner lgbm\n",
            "INFO:flaml.automl:iteration 103, current learner lgbm\n",
            "[flaml.automl: 12-11 13:19:47] {3343} INFO -  at 453.9s,\testimator lgbm's best error=0.1654,\tbest estimator lgbm's best error=0.1654\n",
            "INFO:flaml.automl: at 453.9s,\testimator lgbm's best error=0.1654,\tbest estimator lgbm's best error=0.1654\n",
            "[flaml.automl: 12-11 13:19:47] {3166} INFO - iteration 104, current learner lgbm\n",
            "INFO:flaml.automl:iteration 104, current learner lgbm\n",
            "[flaml.automl: 12-11 13:19:48] {3343} INFO -  at 455.1s,\testimator lgbm's best error=0.1654,\tbest estimator lgbm's best error=0.1654\n",
            "INFO:flaml.automl: at 455.1s,\testimator lgbm's best error=0.1654,\tbest estimator lgbm's best error=0.1654\n",
            "[flaml.automl: 12-11 13:19:48] {3166} INFO - iteration 105, current learner lgbm\n",
            "INFO:flaml.automl:iteration 105, current learner lgbm\n",
            "[flaml.automl: 12-11 13:20:00] {3343} INFO -  at 466.5s,\testimator lgbm's best error=0.1654,\tbest estimator lgbm's best error=0.1654\n",
            "INFO:flaml.automl: at 466.5s,\testimator lgbm's best error=0.1654,\tbest estimator lgbm's best error=0.1654\n",
            "[flaml.automl: 12-11 13:20:00] {3166} INFO - iteration 106, current learner lgbm\n",
            "INFO:flaml.automl:iteration 106, current learner lgbm\n",
            "[flaml.automl: 12-11 13:20:01] {3343} INFO -  at 467.9s,\testimator lgbm's best error=0.1654,\tbest estimator lgbm's best error=0.1654\n",
            "INFO:flaml.automl: at 467.9s,\testimator lgbm's best error=0.1654,\tbest estimator lgbm's best error=0.1654\n",
            "[flaml.automl: 12-11 13:20:01] {3166} INFO - iteration 107, current learner lgbm\n",
            "INFO:flaml.automl:iteration 107, current learner lgbm\n",
            "[flaml.automl: 12-11 13:20:02] {3343} INFO -  at 468.7s,\testimator lgbm's best error=0.1654,\tbest estimator lgbm's best error=0.1654\n",
            "INFO:flaml.automl: at 468.7s,\testimator lgbm's best error=0.1654,\tbest estimator lgbm's best error=0.1654\n",
            "[flaml.automl: 12-11 13:20:02] {3166} INFO - iteration 108, current learner lgbm\n",
            "INFO:flaml.automl:iteration 108, current learner lgbm\n",
            "[flaml.automl: 12-11 13:20:17] {3343} INFO -  at 484.0s,\testimator lgbm's best error=0.1654,\tbest estimator lgbm's best error=0.1654\n",
            "INFO:flaml.automl: at 484.0s,\testimator lgbm's best error=0.1654,\tbest estimator lgbm's best error=0.1654\n",
            "[flaml.automl: 12-11 13:20:17] {3166} INFO - iteration 109, current learner lgbm\n",
            "INFO:flaml.automl:iteration 109, current learner lgbm\n",
            "[flaml.automl: 12-11 13:20:19] {3343} INFO -  at 485.8s,\testimator lgbm's best error=0.1654,\tbest estimator lgbm's best error=0.1654\n",
            "INFO:flaml.automl: at 485.8s,\testimator lgbm's best error=0.1654,\tbest estimator lgbm's best error=0.1654\n",
            "[flaml.automl: 12-11 13:20:19] {3166} INFO - iteration 110, current learner lgbm\n",
            "INFO:flaml.automl:iteration 110, current learner lgbm\n",
            "[flaml.automl: 12-11 13:20:24] {3343} INFO -  at 490.8s,\testimator lgbm's best error=0.1654,\tbest estimator lgbm's best error=0.1654\n",
            "INFO:flaml.automl: at 490.8s,\testimator lgbm's best error=0.1654,\tbest estimator lgbm's best error=0.1654\n",
            "[flaml.automl: 12-11 13:20:24] {3166} INFO - iteration 111, current learner lgbm\n",
            "INFO:flaml.automl:iteration 111, current learner lgbm\n",
            "[flaml.automl: 12-11 13:20:39] {3343} INFO -  at 505.8s,\testimator lgbm's best error=0.1654,\tbest estimator lgbm's best error=0.1654\n",
            "INFO:flaml.automl: at 505.8s,\testimator lgbm's best error=0.1654,\tbest estimator lgbm's best error=0.1654\n",
            "[flaml.automl: 12-11 13:20:39] {3166} INFO - iteration 112, current learner lgbm\n",
            "INFO:flaml.automl:iteration 112, current learner lgbm\n",
            "[flaml.automl: 12-11 13:20:40] {3343} INFO -  at 506.5s,\testimator lgbm's best error=0.1654,\tbest estimator lgbm's best error=0.1654\n",
            "INFO:flaml.automl: at 506.5s,\testimator lgbm's best error=0.1654,\tbest estimator lgbm's best error=0.1654\n",
            "[flaml.automl: 12-11 13:20:40] {3166} INFO - iteration 113, current learner lgbm\n",
            "INFO:flaml.automl:iteration 113, current learner lgbm\n",
            "[flaml.automl: 12-11 13:20:42] {3343} INFO -  at 509.0s,\testimator lgbm's best error=0.1654,\tbest estimator lgbm's best error=0.1654\n",
            "INFO:flaml.automl: at 509.0s,\testimator lgbm's best error=0.1654,\tbest estimator lgbm's best error=0.1654\n",
            "[flaml.automl: 12-11 13:20:42] {3166} INFO - iteration 114, current learner lgbm\n",
            "INFO:flaml.automl:iteration 114, current learner lgbm\n",
            "[flaml.automl: 12-11 13:20:45] {3343} INFO -  at 512.1s,\testimator lgbm's best error=0.1654,\tbest estimator lgbm's best error=0.1654\n",
            "INFO:flaml.automl: at 512.1s,\testimator lgbm's best error=0.1654,\tbest estimator lgbm's best error=0.1654\n",
            "[flaml.automl: 12-11 13:20:45] {3166} INFO - iteration 115, current learner lgbm\n",
            "INFO:flaml.automl:iteration 115, current learner lgbm\n",
            "[flaml.automl: 12-11 13:20:46] {3343} INFO -  at 513.2s,\testimator lgbm's best error=0.1654,\tbest estimator lgbm's best error=0.1654\n",
            "INFO:flaml.automl: at 513.2s,\testimator lgbm's best error=0.1654,\tbest estimator lgbm's best error=0.1654\n",
            "[flaml.automl: 12-11 13:20:46] {3166} INFO - iteration 116, current learner lgbm\n",
            "INFO:flaml.automl:iteration 116, current learner lgbm\n",
            "[flaml.automl: 12-11 13:20:57] {3343} INFO -  at 524.0s,\testimator lgbm's best error=0.1654,\tbest estimator lgbm's best error=0.1654\n",
            "INFO:flaml.automl: at 524.0s,\testimator lgbm's best error=0.1654,\tbest estimator lgbm's best error=0.1654\n",
            "[flaml.automl: 12-11 13:20:57] {3166} INFO - iteration 117, current learner lgbm\n",
            "INFO:flaml.automl:iteration 117, current learner lgbm\n",
            "[flaml.automl: 12-11 13:21:18] {3343} INFO -  at 544.8s,\testimator lgbm's best error=0.1654,\tbest estimator lgbm's best error=0.1654\n",
            "INFO:flaml.automl: at 544.8s,\testimator lgbm's best error=0.1654,\tbest estimator lgbm's best error=0.1654\n",
            "[flaml.automl: 12-11 13:21:18] {3166} INFO - iteration 118, current learner lgbm\n",
            "INFO:flaml.automl:iteration 118, current learner lgbm\n",
            "[flaml.automl: 12-11 13:21:19] {3343} INFO -  at 545.4s,\testimator lgbm's best error=0.1654,\tbest estimator lgbm's best error=0.1654\n",
            "INFO:flaml.automl: at 545.4s,\testimator lgbm's best error=0.1654,\tbest estimator lgbm's best error=0.1654\n",
            "[flaml.automl: 12-11 13:21:19] {3166} INFO - iteration 119, current learner lgbm\n",
            "INFO:flaml.automl:iteration 119, current learner lgbm\n",
            "[flaml.automl: 12-11 13:21:22] {3343} INFO -  at 548.5s,\testimator lgbm's best error=0.1654,\tbest estimator lgbm's best error=0.1654\n",
            "INFO:flaml.automl: at 548.5s,\testimator lgbm's best error=0.1654,\tbest estimator lgbm's best error=0.1654\n",
            "[flaml.automl: 12-11 13:21:22] {3166} INFO - iteration 120, current learner lgbm\n",
            "INFO:flaml.automl:iteration 120, current learner lgbm\n",
            "[flaml.automl: 12-11 13:21:24] {3343} INFO -  at 550.7s,\testimator lgbm's best error=0.1654,\tbest estimator lgbm's best error=0.1654\n",
            "INFO:flaml.automl: at 550.7s,\testimator lgbm's best error=0.1654,\tbest estimator lgbm's best error=0.1654\n",
            "[flaml.automl: 12-11 13:21:24] {3166} INFO - iteration 121, current learner lgbm\n",
            "INFO:flaml.automl:iteration 121, current learner lgbm\n",
            "[flaml.automl: 12-11 13:21:30] {3343} INFO -  at 556.3s,\testimator lgbm's best error=0.1654,\tbest estimator lgbm's best error=0.1654\n",
            "INFO:flaml.automl: at 556.3s,\testimator lgbm's best error=0.1654,\tbest estimator lgbm's best error=0.1654\n",
            "[flaml.automl: 12-11 13:21:30] {3166} INFO - iteration 122, current learner lgbm\n",
            "INFO:flaml.automl:iteration 122, current learner lgbm\n",
            "[flaml.automl: 12-11 13:21:31] {3343} INFO -  at 558.0s,\testimator lgbm's best error=0.1654,\tbest estimator lgbm's best error=0.1654\n",
            "INFO:flaml.automl: at 558.0s,\testimator lgbm's best error=0.1654,\tbest estimator lgbm's best error=0.1654\n",
            "[flaml.automl: 12-11 13:21:31] {3166} INFO - iteration 123, current learner lgbm\n",
            "INFO:flaml.automl:iteration 123, current learner lgbm\n",
            "[flaml.automl: 12-11 13:21:34] {3343} INFO -  at 560.9s,\testimator lgbm's best error=0.1654,\tbest estimator lgbm's best error=0.1654\n",
            "INFO:flaml.automl: at 560.9s,\testimator lgbm's best error=0.1654,\tbest estimator lgbm's best error=0.1654\n",
            "[flaml.automl: 12-11 13:21:34] {3166} INFO - iteration 124, current learner lgbm\n",
            "INFO:flaml.automl:iteration 124, current learner lgbm\n",
            "[flaml.automl: 12-11 13:21:38] {3343} INFO -  at 565.0s,\testimator lgbm's best error=0.1654,\tbest estimator lgbm's best error=0.1654\n",
            "INFO:flaml.automl: at 565.0s,\testimator lgbm's best error=0.1654,\tbest estimator lgbm's best error=0.1654\n",
            "[flaml.automl: 12-11 13:21:38] {3166} INFO - iteration 125, current learner lgbm\n",
            "INFO:flaml.automl:iteration 125, current learner lgbm\n",
            "[flaml.automl: 12-11 13:21:40] {3343} INFO -  at 567.2s,\testimator lgbm's best error=0.1654,\tbest estimator lgbm's best error=0.1654\n",
            "INFO:flaml.automl: at 567.2s,\testimator lgbm's best error=0.1654,\tbest estimator lgbm's best error=0.1654\n",
            "[flaml.automl: 12-11 13:21:40] {3166} INFO - iteration 126, current learner lgbm\n",
            "INFO:flaml.automl:iteration 126, current learner lgbm\n",
            "[flaml.automl: 12-11 13:21:45] {3343} INFO -  at 572.0s,\testimator lgbm's best error=0.1654,\tbest estimator lgbm's best error=0.1654\n",
            "INFO:flaml.automl: at 572.0s,\testimator lgbm's best error=0.1654,\tbest estimator lgbm's best error=0.1654\n",
            "[flaml.automl: 12-11 13:21:45] {3166} INFO - iteration 127, current learner lgbm\n",
            "INFO:flaml.automl:iteration 127, current learner lgbm\n",
            "[flaml.automl: 12-11 13:22:06] {3343} INFO -  at 593.1s,\testimator lgbm's best error=0.1654,\tbest estimator lgbm's best error=0.1654\n",
            "INFO:flaml.automl: at 593.1s,\testimator lgbm's best error=0.1654,\tbest estimator lgbm's best error=0.1654\n",
            "[flaml.automl: 12-11 13:22:06] {3166} INFO - iteration 128, current learner lgbm\n",
            "INFO:flaml.automl:iteration 128, current learner lgbm\n",
            "[flaml.automl: 12-11 13:22:07] {3343} INFO -  at 593.7s,\testimator lgbm's best error=0.1654,\tbest estimator lgbm's best error=0.1654\n",
            "INFO:flaml.automl: at 593.7s,\testimator lgbm's best error=0.1654,\tbest estimator lgbm's best error=0.1654\n",
            "[flaml.automl: 12-11 13:22:07] {3166} INFO - iteration 129, current learner lgbm\n",
            "INFO:flaml.automl:iteration 129, current learner lgbm\n",
            "[flaml.automl: 12-11 13:22:10] {3343} INFO -  at 596.4s,\testimator lgbm's best error=0.1654,\tbest estimator lgbm's best error=0.1654\n",
            "INFO:flaml.automl: at 596.4s,\testimator lgbm's best error=0.1654,\tbest estimator lgbm's best error=0.1654\n",
            "[flaml.automl: 12-11 13:22:10] {3166} INFO - iteration 130, current learner lgbm\n",
            "INFO:flaml.automl:iteration 130, current learner lgbm\n",
            "[flaml.automl: 12-11 13:22:12] {3343} INFO -  at 599.1s,\testimator lgbm's best error=0.1654,\tbest estimator lgbm's best error=0.1654\n",
            "INFO:flaml.automl: at 599.1s,\testimator lgbm's best error=0.1654,\tbest estimator lgbm's best error=0.1654\n",
            "[flaml.automl: 12-11 13:22:12] {3459} INFO - selected model: LGBMClassifier(colsample_bytree=0.9930690838565842,\n",
            "               learning_rate=0.023685869156657772, max_bin=511,\n",
            "               min_child_samples=14, n_estimators=124, num_leaves=34,\n",
            "               reg_alpha=0.0014141288873710895, reg_lambda=1.9806480337540229,\n",
            "               verbose=-1)\n",
            "INFO:flaml.automl:selected model: LGBMClassifier(colsample_bytree=0.9930690838565842,\n",
            "               learning_rate=0.023685869156657772, max_bin=511,\n",
            "               min_child_samples=14, n_estimators=124, num_leaves=34,\n",
            "               reg_alpha=0.0014141288873710895, reg_lambda=1.9806480337540229,\n",
            "               verbose=-1)\n",
            "[flaml.automl: 12-11 13:22:12] {2901} INFO - fit succeeded\n",
            "INFO:flaml.automl:fit succeeded\n",
            "[flaml.automl: 12-11 13:22:12] {2902} INFO - Time taken to find the best model: 437.78077721595764\n",
            "INFO:flaml.automl:Time taken to find the best model: 437.78077721595764\n",
            "[flaml.automl: 12-11 13:22:12] {2913} WARNING - Time taken to find the best model is 73% of the provided time budget and not all estimators' hyperparameter search converged. Consider increasing the time budget.\n",
            "WARNING:flaml.automl:Time taken to find the best model is 73% of the provided time budget and not all estimators' hyperparameter search converged. Consider increasing the time budget.\n"
          ]
        }
      ]
    },
    {
      "cell_type": "code",
      "source": [
        "import pickle\n",
        "with open('.automl.pkl', 'wb') as f:\n",
        "    pickle.dump(automl, f, pickle.HIGHEST_PROTOCOL)\n",
        "with open('.automl.pkl', 'rb') as f:\n",
        "    automl = pickle.load(f)"
      ],
      "metadata": {
        "id": "Hl43Eh8EUP-y"
      },
      "execution_count": null,
      "outputs": []
    },
    {
      "cell_type": "code",
      "source": [
        "print('Best ML leaner:', automl.best_estimator)\n",
        "print('Best hyperparmeter config:', automl.best_config)\n",
        "print('Best loss on validation data: {0:.4g}'.format(automl.best_loss))\n",
        "print('Training duration of best run: {0:.4g} s'.format(automl.best_config_train_time))"
      ],
      "metadata": {
        "colab": {
          "base_uri": "https://localhost:8080/"
        },
        "id": "RwrSPE5uUg4l",
        "outputId": "b5c543f4-b340-4c41-97bc-544d14c89b30"
      },
      "execution_count": null,
      "outputs": [
        {
          "output_type": "stream",
          "name": "stdout",
          "text": [
            "Best ML leaner: lgbm\n",
            "Best hyperparmeter config: {'n_estimators': 124, 'num_leaves': 34, 'min_child_samples': 14, 'learning_rate': 0.023685869156657772, 'log_max_bin': 9, 'colsample_bytree': 0.9930690838565842, 'reg_alpha': 0.0014141288873710895, 'reg_lambda': 1.9806480337540229, 'FLAML_sample_size': 62868}\n",
            "Best loss on validation data: 0.1654\n",
            "Training duration of best run: 2.831 s\n"
          ]
        }
      ]
    },
    {
      "cell_type": "code",
      "source": [
        "y_pred = automl.predict(X_test)\n",
        "print('Predicted labels', y_pred)\n",
        "print('True labels', y_test)\n",
        "y_pred_proba = automl.predict_proba(X_test)[:,1]"
      ],
      "metadata": {
        "colab": {
          "base_uri": "https://localhost:8080/"
        },
        "id": "fOfxKq_gUkC8",
        "outputId": "c368f2f3-95c0-42a0-a12a-a40095e86837"
      },
      "execution_count": null,
      "outputs": [
        {
          "output_type": "stream",
          "name": "stdout",
          "text": [
            "Predicted labels ['H' 'H' 'H' ... 'H' 'H' 'H']\n",
            "True labels 78631    B\n",
            "78632    H\n",
            "78633    H\n",
            "78634    H\n",
            "78635    H\n",
            "        ..\n",
            "96961    H\n",
            "96962    H\n",
            "96963    H\n",
            "96964    H\n",
            "96965    H\n",
            "Name: label, Length: 18335, dtype: object\n"
          ]
        }
      ]
    },
    {
      "cell_type": "code",
      "source": [
        "pd.Series(y_pred).unique()"
      ],
      "metadata": {
        "colab": {
          "base_uri": "https://localhost:8080/"
        },
        "id": "UtGbONNuXqTb",
        "outputId": "e2f389da-ea33-42f1-d2da-12176e3e5c22"
      },
      "execution_count": null,
      "outputs": [
        {
          "output_type": "execute_result",
          "data": {
            "text/plain": [
              "array(['H', 'S', 'B'], dtype=object)"
            ]
          },
          "metadata": {},
          "execution_count": 139
        }
      ]
    },
    {
      "cell_type": "code",
      "source": [
        "''' compute different metric values on testing dataset'''\n",
        "from flaml.ml import sklearn_metric_loss_score\n",
        "print('accuracy', '=', 1 - sklearn_metric_loss_score('accuracy', y_pred, y_test))"
      ],
      "metadata": {
        "colab": {
          "base_uri": "https://localhost:8080/"
        },
        "id": "5W_ZF7ovUmA1",
        "outputId": "f3638845-20f3-4a35-d315-c6ad95bfb21f"
      },
      "execution_count": null,
      "outputs": [
        {
          "output_type": "stream",
          "name": "stdout",
          "text": [
            "accuracy = 0.9435505863103354\n"
          ]
        }
      ]
    },
    {
      "cell_type": "code",
      "source": [
        "from flaml.data import get_output_from_log\n",
        "import matplotlib.pyplot as plt\n",
        "import numpy as np\n",
        "\n",
        "time_history, best_valid_loss_history, valid_loss_history, config_history, metric_history = \\\n",
        "    get_output_from_log(filename='.automl.log', time_budget=60)\n",
        "\n",
        "plt.title(\"Learning Curve\")\n",
        "plt.xlabel(\"Wall Clock Time (s)\")\n",
        "plt.ylabel(\"Validation loss\")\n",
        "plt.step(time_history, np.array(best_valid_loss_history), where=\"post\")\n",
        "plt.show()"
      ],
      "metadata": {
        "colab": {
          "base_uri": "https://localhost:8080/",
          "height": 295
        },
        "id": "f-PgKaeIUoZX",
        "outputId": "d667866e-1e47-4bd1-935c-140657ef012e"
      },
      "execution_count": null,
      "outputs": [
        {
          "output_type": "display_data",
          "data": {
            "text/plain": [
              "<Figure size 432x288 with 1 Axes>"
            ],
            "image/png": "[encoded data removed]"
          },
          "metadata": {
            "needs_background": "light"
          }
        }
      ]
    },
    {
      "cell_type": "code",
      "source": [
        "pd.Series(automl.feature_importances_, index=automl.feature_names_in_).sort_values(ascending=False).plot.bar()"
      ],
      "metadata": {
        "colab": {
          "base_uri": "https://localhost:8080/",
          "height": 344
        },
        "id": "LAlz9LoVUtsi",
        "outputId": "aa568b53-78b6-45e8-9675-9938b1310000"
      },
      "execution_count": null,
      "outputs": [
        {
          "output_type": "execute_result",
          "data": {
            "text/plain": [
              "<matplotlib.axes._subplots.AxesSubplot at 0x7f824f1481f0>"
            ]
          },
          "metadata": {},
          "execution_count": 142
        },
        {
          "output_type": "display_data",
          "data": {
            "text/plain": [
              "<Figure size 432x288 with 1 Axes>"
            ],
            "image/png": "[encoded data removed]"
          },
          "metadata": {
            "needs_background": "light"
          }
        }
      ]
    },
    {
      "cell_type": "code",
      "source": [
        "from sklearn.metrics import classification_report"
      ],
      "metadata": {
        "id": "Y3jFW2reUyjY"
      },
      "execution_count": null,
      "outputs": []
    },
    {
      "cell_type": "code",
      "source": [
        "report = classification_report(y_test, y_pred)"
      ],
      "metadata": {
        "id": "dk18fxqyUy2p"
      },
      "execution_count": null,
      "outputs": []
    },
    {
      "cell_type": "code",
      "source": [
        "print(report)"
      ],
      "metadata": {
        "colab": {
          "base_uri": "https://localhost:8080/"
        },
        "id": "oPFfnAtbU0c3",
        "outputId": "8ab7a3de-b33d-45d9-f31c-17bb401bae1f"
      },
      "execution_count": null,
      "outputs": [
        {
          "output_type": "stream",
          "name": "stdout",
          "text": [
            "              precision    recall  f1-score   support\n",
            "\n",
            "           B       0.09      0.00      0.00       512\n",
            "           H       0.94      1.00      0.97     17311\n",
            "           S       0.14      0.00      0.00       512\n",
            "\n",
            "    accuracy                           0.94     18335\n",
            "   macro avg       0.39      0.33      0.33     18335\n",
            "weighted avg       0.90      0.94      0.92     18335\n",
            "\n"
          ]
        }
      ]
    },
    {
      "cell_type": "code",
      "source": [
        "pd.Series(y_pred, index=y_test.index).astype('category').to_pickle('.y_pred.pkl')"
      ],
      "metadata": {
        "id": "QH0yN_8YU1Xv"
      },
      "execution_count": null,
      "outputs": []
    }
  ]
}